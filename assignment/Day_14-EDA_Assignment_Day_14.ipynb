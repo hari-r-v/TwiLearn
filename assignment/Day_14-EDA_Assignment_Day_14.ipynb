{
 "cells": [
  {
   "cell_type": "markdown",
   "metadata": {
    "id": "DgE0o3YHBw-n"
   },
   "source": [
    "<center> <h1 style=\"background-color:orange; color:white\"><br>Exploratory Data Analysis<br></h1></center>"
   ]
  },
  {
   "cell_type": "markdown",
   "metadata": {
    "id": "w6lzj4kjDJWu"
   },
   "source": [
    "# `Problem Statement:`\n",
    "We have used Cars dataset from kaggle  with features including make, model, year, engine, and other properties of the car used to predict its price."
   ]
  },
  {
   "cell_type": "markdown",
   "metadata": {
    "id": "JpZPe8JBBw-y"
   },
   "source": [
    "## `Importing the necessary libraries`\n",
    "\n",
    "\n",
    "\n"
   ]
  },
  {
   "cell_type": "code",
   "execution_count": 1,
   "metadata": {
    "id": "dl9ocdwHBw-2"
   },
   "outputs": [],
   "source": [
    "# import pandas as pd\n",
    "# import numpy as np\n",
    "# import seaborn as sns #visualisation\n",
    "# import matplotlib.pyplot as plt #visualisation\n",
    "# %matplotlib inline \n",
    "# sns.set(color_codes=True)\n",
    "# from scipy import stats\n",
    "# import warnings\n",
    "# warnings.filterwarnings(\"ignore\")\n",
    "\n",
    "import pandas as pd\n",
    "import numpy as np\n",
    "import seaborn as sns #visualisation\n",
    "import matplotlib.pyplot as plt #visualisation\n",
    "%matplotlib inline \n",
    "sns.set(color_codes=True)\n",
    "from scipy import stats\n",
    "import warnings\n",
    "warnings.filterwarnings(\"ignore\")"
   ]
  },
  {
   "cell_type": "markdown",
   "metadata": {
    "id": "K5JcLAN2Bw-7"
   },
   "source": [
    "## `Load the dataset into dataframe`"
   ]
  },
  {
   "cell_type": "code",
   "execution_count": 2,
   "metadata": {
    "id": "Yc-ChymZBw_A"
   },
   "outputs": [],
   "source": [
    "## load the csv file \n",
    "df = pd.read_csv('Cars_data.csv')"
   ]
  },
  {
   "cell_type": "code",
   "execution_count": 3,
   "metadata": {
    "id": "ZUd5Fl7jBw_C",
    "outputId": "79c6280b-0909-4245-a805-9607cb59effa"
   },
   "outputs": [
    {
     "data": {
      "text/html": [
       "<div>\n",
       "<style scoped>\n",
       "    .dataframe tbody tr th:only-of-type {\n",
       "        vertical-align: middle;\n",
       "    }\n",
       "\n",
       "    .dataframe tbody tr th {\n",
       "        vertical-align: top;\n",
       "    }\n",
       "\n",
       "    .dataframe thead th {\n",
       "        text-align: right;\n",
       "    }\n",
       "</style>\n",
       "<table border=\"1\" class=\"dataframe\">\n",
       "  <thead>\n",
       "    <tr style=\"text-align: right;\">\n",
       "      <th></th>\n",
       "      <th>Make</th>\n",
       "      <th>Model</th>\n",
       "      <th>Year</th>\n",
       "      <th>Engine Fuel Type</th>\n",
       "      <th>Engine HP</th>\n",
       "      <th>Engine Cylinders</th>\n",
       "      <th>Transmission Type</th>\n",
       "      <th>Driven_Wheels</th>\n",
       "      <th>Number of Doors</th>\n",
       "      <th>Market Category</th>\n",
       "      <th>Vehicle Size</th>\n",
       "      <th>Vehicle Style</th>\n",
       "      <th>highway MPG</th>\n",
       "      <th>city mpg</th>\n",
       "      <th>Popularity</th>\n",
       "      <th>MSRP</th>\n",
       "    </tr>\n",
       "  </thead>\n",
       "  <tbody>\n",
       "    <tr>\n",
       "      <th>0</th>\n",
       "      <td>BMW</td>\n",
       "      <td>1 Series M</td>\n",
       "      <td>2011</td>\n",
       "      <td>premium unleaded (required)</td>\n",
       "      <td>335.0</td>\n",
       "      <td>6.0</td>\n",
       "      <td>MANUAL</td>\n",
       "      <td>rear wheel drive</td>\n",
       "      <td>2.0</td>\n",
       "      <td>Factory Tuner,Luxury,High-Performance</td>\n",
       "      <td>Compact</td>\n",
       "      <td>Coupe</td>\n",
       "      <td>26</td>\n",
       "      <td>19</td>\n",
       "      <td>3916</td>\n",
       "      <td>46135</td>\n",
       "    </tr>\n",
       "    <tr>\n",
       "      <th>1</th>\n",
       "      <td>BMW</td>\n",
       "      <td>1 Series</td>\n",
       "      <td>2011</td>\n",
       "      <td>premium unleaded (required)</td>\n",
       "      <td>300.0</td>\n",
       "      <td>6.0</td>\n",
       "      <td>MANUAL</td>\n",
       "      <td>rear wheel drive</td>\n",
       "      <td>2.0</td>\n",
       "      <td>Luxury,Performance</td>\n",
       "      <td>Compact</td>\n",
       "      <td>Convertible</td>\n",
       "      <td>28</td>\n",
       "      <td>19</td>\n",
       "      <td>3916</td>\n",
       "      <td>40650</td>\n",
       "    </tr>\n",
       "    <tr>\n",
       "      <th>2</th>\n",
       "      <td>BMW</td>\n",
       "      <td>1 Series</td>\n",
       "      <td>2011</td>\n",
       "      <td>premium unleaded (required)</td>\n",
       "      <td>300.0</td>\n",
       "      <td>6.0</td>\n",
       "      <td>MANUAL</td>\n",
       "      <td>rear wheel drive</td>\n",
       "      <td>2.0</td>\n",
       "      <td>Luxury,High-Performance</td>\n",
       "      <td>Compact</td>\n",
       "      <td>Coupe</td>\n",
       "      <td>28</td>\n",
       "      <td>20</td>\n",
       "      <td>3916</td>\n",
       "      <td>36350</td>\n",
       "    </tr>\n",
       "    <tr>\n",
       "      <th>3</th>\n",
       "      <td>BMW</td>\n",
       "      <td>1 Series</td>\n",
       "      <td>2011</td>\n",
       "      <td>premium unleaded (required)</td>\n",
       "      <td>230.0</td>\n",
       "      <td>6.0</td>\n",
       "      <td>MANUAL</td>\n",
       "      <td>rear wheel drive</td>\n",
       "      <td>2.0</td>\n",
       "      <td>Luxury,Performance</td>\n",
       "      <td>Compact</td>\n",
       "      <td>Coupe</td>\n",
       "      <td>28</td>\n",
       "      <td>18</td>\n",
       "      <td>3916</td>\n",
       "      <td>29450</td>\n",
       "    </tr>\n",
       "    <tr>\n",
       "      <th>4</th>\n",
       "      <td>BMW</td>\n",
       "      <td>1 Series</td>\n",
       "      <td>2011</td>\n",
       "      <td>premium unleaded (required)</td>\n",
       "      <td>230.0</td>\n",
       "      <td>6.0</td>\n",
       "      <td>MANUAL</td>\n",
       "      <td>rear wheel drive</td>\n",
       "      <td>2.0</td>\n",
       "      <td>Luxury</td>\n",
       "      <td>Compact</td>\n",
       "      <td>Convertible</td>\n",
       "      <td>28</td>\n",
       "      <td>18</td>\n",
       "      <td>3916</td>\n",
       "      <td>34500</td>\n",
       "    </tr>\n",
       "  </tbody>\n",
       "</table>\n",
       "</div>"
      ],
      "text/plain": [
       "  Make       Model  Year             Engine Fuel Type  Engine HP  \\\n",
       "0  BMW  1 Series M  2011  premium unleaded (required)      335.0   \n",
       "1  BMW    1 Series  2011  premium unleaded (required)      300.0   \n",
       "2  BMW    1 Series  2011  premium unleaded (required)      300.0   \n",
       "3  BMW    1 Series  2011  premium unleaded (required)      230.0   \n",
       "4  BMW    1 Series  2011  premium unleaded (required)      230.0   \n",
       "\n",
       "   Engine Cylinders Transmission Type     Driven_Wheels  Number of Doors  \\\n",
       "0               6.0            MANUAL  rear wheel drive              2.0   \n",
       "1               6.0            MANUAL  rear wheel drive              2.0   \n",
       "2               6.0            MANUAL  rear wheel drive              2.0   \n",
       "3               6.0            MANUAL  rear wheel drive              2.0   \n",
       "4               6.0            MANUAL  rear wheel drive              2.0   \n",
       "\n",
       "                         Market Category Vehicle Size Vehicle Style  \\\n",
       "0  Factory Tuner,Luxury,High-Performance      Compact         Coupe   \n",
       "1                     Luxury,Performance      Compact   Convertible   \n",
       "2                Luxury,High-Performance      Compact         Coupe   \n",
       "3                     Luxury,Performance      Compact         Coupe   \n",
       "4                                 Luxury      Compact   Convertible   \n",
       "\n",
       "   highway MPG  city mpg  Popularity   MSRP  \n",
       "0           26        19        3916  46135  \n",
       "1           28        19        3916  40650  \n",
       "2           28        20        3916  36350  \n",
       "3           28        18        3916  29450  \n",
       "4           28        18        3916  34500  "
      ]
     },
     "execution_count": 3,
     "metadata": {},
     "output_type": "execute_result"
    }
   ],
   "source": [
    "## print the head of the dataframe\n",
    "\n",
    "df.head()"
   ]
  },
  {
   "cell_type": "markdown",
   "metadata": {
    "id": "Gi3_9poxrSjE"
   },
   "source": [
    "Now we observe the each features present in the dataset.<br>\n",
    "\n",
    " `Make:` The Make feature is the company name of the Car.<br>\n",
    "`Model:` The Model feature is the model or different version of Car models.<br>\n",
    "`Year:`  The year describes the model has been launched.<br>\n",
    "`Engine Fuel Type:` It defines the Fuel type of the car model.<br>\n",
    "`Engine HP:` It's say the Horsepower that refers to the power an engine produces.<br>\n",
    "`Engine Cylinders:` It define the nos of cylinders in present in the engine.<br>\n",
    "`Transmission Type:` It is the type of feature that describe about the car transmission type i.e Mannual or automatic.<br>\n",
    "`Driven_Wheels:` The type of wheel drive.<br>\n",
    "`No of doors:` It defined nos of doors present in the car.<br>\n",
    "`Market Category:` This features tells about the type of car or which category the car belongs. <br>\n",
    "`Vehicle Size:` It's say about the about car size.<br>\n",
    "`Vehicle Style:` The feature is all about the style that belongs to car.<br>\n",
    "`highway MPG:` The average a car will get while driving on an open stretch of road without stopping or starting, typically at a higher speed.<br>\n",
    "`city mpg:` City MPG refers to driving with occasional stopping and braking.<br>\n",
    "`Popularity:` It can refered to rating of that car or popularity of car.<br>\n",
    "`MSRP:` The price of that car.\n",
    "\n",
    "\n",
    "\n",
    "\n",
    "\n"
   ]
  },
  {
   "cell_type": "markdown",
   "metadata": {
    "id": "VQ9qn4PaBw_i"
   },
   "source": [
    "## `Check the datatypes`"
   ]
  },
  {
   "cell_type": "code",
   "execution_count": 4,
   "metadata": {
    "id": "OPozGraJBw_l",
    "outputId": "b72042d2-5913-43d8-c78a-2101feea6294"
   },
   "outputs": [
    {
     "name": "stdout",
     "output_type": "stream",
     "text": [
      "<class 'pandas.core.frame.DataFrame'>\n",
      "RangeIndex: 11914 entries, 0 to 11913\n",
      "Data columns (total 16 columns):\n",
      " #   Column             Non-Null Count  Dtype  \n",
      "---  ------             --------------  -----  \n",
      " 0   Make               11914 non-null  object \n",
      " 1   Model              11914 non-null  object \n",
      " 2   Year               11914 non-null  int64  \n",
      " 3   Engine Fuel Type   11911 non-null  object \n",
      " 4   Engine HP          11845 non-null  float64\n",
      " 5   Engine Cylinders   11884 non-null  float64\n",
      " 6   Transmission Type  11914 non-null  object \n",
      " 7   Driven_Wheels      11914 non-null  object \n",
      " 8   Number of Doors    11908 non-null  float64\n",
      " 9   Market Category    8172 non-null   object \n",
      " 10  Vehicle Size       11914 non-null  object \n",
      " 11  Vehicle Style      11914 non-null  object \n",
      " 12  highway MPG        11914 non-null  int64  \n",
      " 13  city mpg           11914 non-null  int64  \n",
      " 14  Popularity         11914 non-null  int64  \n",
      " 15  MSRP               11914 non-null  int64  \n",
      "dtypes: float64(3), int64(5), object(8)\n",
      "memory usage: 1.5+ MB\n"
     ]
    }
   ],
   "source": [
    "# Get the datatypes of each columns number of records in each column.\n",
    "\n",
    "df.info()"
   ]
  },
  {
   "cell_type": "markdown",
   "metadata": {
    "id": "gFyzAJLIBw_n"
   },
   "source": [
    "## `Dropping irrevalent columns`"
   ]
  },
  {
   "cell_type": "markdown",
   "metadata": {
    "id": "ZZ863Z4jBw_p"
   },
   "source": [
    "If we consider all columns present in the dataset then unneccessary columns will impact on the model's accuracy.<br>\n",
    "Not all the columns are important to us in the given dataframe, and hence we would drop the columns that are irrevalent to us. It would reflect our model's accucary so we need to drop them. Otherwise it will affect our model.\n",
    "\n",
    "\n",
    "The list cols_to_drop contains the names of the cols that are irrevalent, drop all these cols from the dataframe.\n",
    "\n",
    "\n",
    "`cols_to_drop = [\"Engine Fuel Type\", \"Market Category\", \"Vehicle Style\", \"Popularity\", \"Number of Doors\", \"Vehicle Size\"]`\n",
    "\n",
    "These features are not neccessary to obtain the model's accucary. It does not contain any relevant information in the dataset. "
   ]
  },
  {
   "cell_type": "code",
   "execution_count": 5,
   "metadata": {
    "id": "oW5t3xE-Bw_p"
   },
   "outputs": [],
   "source": [
    "# initialise cols_to_drop\n",
    "\n",
    "cols_to_drop = [\"Engine Fuel Type\", \"Market Category\", \"Vehicle Style\", \"Popularity\", \"Number of Doors\", \"Vehicle Size\"]"
   ]
  },
  {
   "cell_type": "code",
   "execution_count": 6,
   "metadata": {
    "id": "RJvrJS9-Bw_r",
    "outputId": "69709257-f66a-41b3-f3e8-0cced7dbb28b"
   },
   "outputs": [
    {
     "data": {
      "text/html": [
       "<div>\n",
       "<style scoped>\n",
       "    .dataframe tbody tr th:only-of-type {\n",
       "        vertical-align: middle;\n",
       "    }\n",
       "\n",
       "    .dataframe tbody tr th {\n",
       "        vertical-align: top;\n",
       "    }\n",
       "\n",
       "    .dataframe thead th {\n",
       "        text-align: right;\n",
       "    }\n",
       "</style>\n",
       "<table border=\"1\" class=\"dataframe\">\n",
       "  <thead>\n",
       "    <tr style=\"text-align: right;\">\n",
       "      <th></th>\n",
       "      <th>Make</th>\n",
       "      <th>Model</th>\n",
       "      <th>Year</th>\n",
       "      <th>Engine HP</th>\n",
       "      <th>Engine Cylinders</th>\n",
       "      <th>Transmission Type</th>\n",
       "      <th>Driven_Wheels</th>\n",
       "      <th>highway MPG</th>\n",
       "      <th>city mpg</th>\n",
       "      <th>MSRP</th>\n",
       "    </tr>\n",
       "  </thead>\n",
       "  <tbody>\n",
       "    <tr>\n",
       "      <th>0</th>\n",
       "      <td>BMW</td>\n",
       "      <td>1 Series M</td>\n",
       "      <td>2011</td>\n",
       "      <td>335.0</td>\n",
       "      <td>6.0</td>\n",
       "      <td>MANUAL</td>\n",
       "      <td>rear wheel drive</td>\n",
       "      <td>26</td>\n",
       "      <td>19</td>\n",
       "      <td>46135</td>\n",
       "    </tr>\n",
       "    <tr>\n",
       "      <th>1</th>\n",
       "      <td>BMW</td>\n",
       "      <td>1 Series</td>\n",
       "      <td>2011</td>\n",
       "      <td>300.0</td>\n",
       "      <td>6.0</td>\n",
       "      <td>MANUAL</td>\n",
       "      <td>rear wheel drive</td>\n",
       "      <td>28</td>\n",
       "      <td>19</td>\n",
       "      <td>40650</td>\n",
       "    </tr>\n",
       "    <tr>\n",
       "      <th>2</th>\n",
       "      <td>BMW</td>\n",
       "      <td>1 Series</td>\n",
       "      <td>2011</td>\n",
       "      <td>300.0</td>\n",
       "      <td>6.0</td>\n",
       "      <td>MANUAL</td>\n",
       "      <td>rear wheel drive</td>\n",
       "      <td>28</td>\n",
       "      <td>20</td>\n",
       "      <td>36350</td>\n",
       "    </tr>\n",
       "    <tr>\n",
       "      <th>3</th>\n",
       "      <td>BMW</td>\n",
       "      <td>1 Series</td>\n",
       "      <td>2011</td>\n",
       "      <td>230.0</td>\n",
       "      <td>6.0</td>\n",
       "      <td>MANUAL</td>\n",
       "      <td>rear wheel drive</td>\n",
       "      <td>28</td>\n",
       "      <td>18</td>\n",
       "      <td>29450</td>\n",
       "    </tr>\n",
       "    <tr>\n",
       "      <th>4</th>\n",
       "      <td>BMW</td>\n",
       "      <td>1 Series</td>\n",
       "      <td>2011</td>\n",
       "      <td>230.0</td>\n",
       "      <td>6.0</td>\n",
       "      <td>MANUAL</td>\n",
       "      <td>rear wheel drive</td>\n",
       "      <td>28</td>\n",
       "      <td>18</td>\n",
       "      <td>34500</td>\n",
       "    </tr>\n",
       "  </tbody>\n",
       "</table>\n",
       "</div>"
      ],
      "text/plain": [
       "  Make       Model  Year  Engine HP  Engine Cylinders Transmission Type  \\\n",
       "0  BMW  1 Series M  2011      335.0               6.0            MANUAL   \n",
       "1  BMW    1 Series  2011      300.0               6.0            MANUAL   \n",
       "2  BMW    1 Series  2011      300.0               6.0            MANUAL   \n",
       "3  BMW    1 Series  2011      230.0               6.0            MANUAL   \n",
       "4  BMW    1 Series  2011      230.0               6.0            MANUAL   \n",
       "\n",
       "      Driven_Wheels  highway MPG  city mpg   MSRP  \n",
       "0  rear wheel drive           26        19  46135  \n",
       "1  rear wheel drive           28        19  40650  \n",
       "2  rear wheel drive           28        20  36350  \n",
       "3  rear wheel drive           28        18  29450  \n",
       "4  rear wheel drive           28        18  34500  "
      ]
     },
     "execution_count": 6,
     "metadata": {},
     "output_type": "execute_result"
    }
   ],
   "source": [
    "# drop the irrevalent cols and print the head of the dataframe\n",
    "df = df.drop(cols_to_drop, axis='columns' )\n",
    "\n",
    "# print df head\n",
    "\n",
    "df.head()"
   ]
  },
  {
   "cell_type": "markdown",
   "metadata": {
    "id": "Jg4y0BS7Bw_s"
   },
   "source": [
    "## `Renaming the columns`"
   ]
  },
  {
   "cell_type": "markdown",
   "metadata": {
    "id": "aDciVmlRBw_t"
   },
   "source": [
    "Now, Its time for renaming the feature to useful feature name. It will help to use them in model training purpose.<br>\n",
    "\n",
    "We have already dropped the unneccesary columns, and now we are left with useful columns. One extra thing that we would do is to rename the columns such that the name clearly represents the essence of the column.\n",
    "\n",
    "The given dict represents (in key value pair) the previous name, and the new name for the dataframe columns"
   ]
  },
  {
   "cell_type": "code",
   "execution_count": 7,
   "metadata": {},
   "outputs": [
    {
     "data": {
      "text/plain": [
       "Index(['Make', 'Model', 'Year', 'Engine HP', 'Engine Cylinders',\n",
       "       'Transmission Type', 'Driven_Wheels', 'highway MPG', 'city mpg',\n",
       "       'MSRP'],\n",
       "      dtype='object')"
      ]
     },
     "execution_count": 7,
     "metadata": {},
     "output_type": "execute_result"
    }
   ],
   "source": [
    "df.columns"
   ]
  },
  {
   "cell_type": "code",
   "execution_count": 8,
   "metadata": {
    "id": "LPr2b3NPBw_u"
   },
   "outputs": [],
   "source": [
    "# rename cols \n",
    "rename_cols = ['New_Make', 'New_Model', 'New_Year', 'New_Engine HP', 'New_Engine Cylinders','New_Transmission Type', 'New_Driven_Wheels', 'New_highway MPG', 'New_city mpg','New_MSRP']\n"
   ]
  },
  {
   "cell_type": "code",
   "execution_count": 9,
   "metadata": {
    "id": "YpY0qGvIBw_v"
   },
   "outputs": [],
   "source": [
    "# use a pandas function to rename the current columns - \n",
    "df.columns = rename_cols\n"
   ]
  },
  {
   "cell_type": "code",
   "execution_count": 10,
   "metadata": {
    "id": "3N1i99nYBw_v",
    "outputId": "d4c5d762-55ef-4566-c6d3-374cc8f9160e"
   },
   "outputs": [
    {
     "data": {
      "text/html": [
       "<div>\n",
       "<style scoped>\n",
       "    .dataframe tbody tr th:only-of-type {\n",
       "        vertical-align: middle;\n",
       "    }\n",
       "\n",
       "    .dataframe tbody tr th {\n",
       "        vertical-align: top;\n",
       "    }\n",
       "\n",
       "    .dataframe thead th {\n",
       "        text-align: right;\n",
       "    }\n",
       "</style>\n",
       "<table border=\"1\" class=\"dataframe\">\n",
       "  <thead>\n",
       "    <tr style=\"text-align: right;\">\n",
       "      <th></th>\n",
       "      <th>New_Make</th>\n",
       "      <th>New_Model</th>\n",
       "      <th>New_Year</th>\n",
       "      <th>New_Engine HP</th>\n",
       "      <th>New_Engine Cylinders</th>\n",
       "      <th>New_Transmission Type</th>\n",
       "      <th>New_Driven_Wheels</th>\n",
       "      <th>New_highway MPG</th>\n",
       "      <th>New_city mpg</th>\n",
       "      <th>New_MSRP</th>\n",
       "    </tr>\n",
       "  </thead>\n",
       "  <tbody>\n",
       "    <tr>\n",
       "      <th>0</th>\n",
       "      <td>BMW</td>\n",
       "      <td>1 Series M</td>\n",
       "      <td>2011</td>\n",
       "      <td>335.0</td>\n",
       "      <td>6.0</td>\n",
       "      <td>MANUAL</td>\n",
       "      <td>rear wheel drive</td>\n",
       "      <td>26</td>\n",
       "      <td>19</td>\n",
       "      <td>46135</td>\n",
       "    </tr>\n",
       "    <tr>\n",
       "      <th>1</th>\n",
       "      <td>BMW</td>\n",
       "      <td>1 Series</td>\n",
       "      <td>2011</td>\n",
       "      <td>300.0</td>\n",
       "      <td>6.0</td>\n",
       "      <td>MANUAL</td>\n",
       "      <td>rear wheel drive</td>\n",
       "      <td>28</td>\n",
       "      <td>19</td>\n",
       "      <td>40650</td>\n",
       "    </tr>\n",
       "    <tr>\n",
       "      <th>2</th>\n",
       "      <td>BMW</td>\n",
       "      <td>1 Series</td>\n",
       "      <td>2011</td>\n",
       "      <td>300.0</td>\n",
       "      <td>6.0</td>\n",
       "      <td>MANUAL</td>\n",
       "      <td>rear wheel drive</td>\n",
       "      <td>28</td>\n",
       "      <td>20</td>\n",
       "      <td>36350</td>\n",
       "    </tr>\n",
       "    <tr>\n",
       "      <th>3</th>\n",
       "      <td>BMW</td>\n",
       "      <td>1 Series</td>\n",
       "      <td>2011</td>\n",
       "      <td>230.0</td>\n",
       "      <td>6.0</td>\n",
       "      <td>MANUAL</td>\n",
       "      <td>rear wheel drive</td>\n",
       "      <td>28</td>\n",
       "      <td>18</td>\n",
       "      <td>29450</td>\n",
       "    </tr>\n",
       "    <tr>\n",
       "      <th>4</th>\n",
       "      <td>BMW</td>\n",
       "      <td>1 Series</td>\n",
       "      <td>2011</td>\n",
       "      <td>230.0</td>\n",
       "      <td>6.0</td>\n",
       "      <td>MANUAL</td>\n",
       "      <td>rear wheel drive</td>\n",
       "      <td>28</td>\n",
       "      <td>18</td>\n",
       "      <td>34500</td>\n",
       "    </tr>\n",
       "  </tbody>\n",
       "</table>\n",
       "</div>"
      ],
      "text/plain": [
       "  New_Make   New_Model  New_Year  New_Engine HP  New_Engine Cylinders  \\\n",
       "0      BMW  1 Series M      2011          335.0                   6.0   \n",
       "1      BMW    1 Series      2011          300.0                   6.0   \n",
       "2      BMW    1 Series      2011          300.0                   6.0   \n",
       "3      BMW    1 Series      2011          230.0                   6.0   \n",
       "4      BMW    1 Series      2011          230.0                   6.0   \n",
       "\n",
       "  New_Transmission Type New_Driven_Wheels  New_highway MPG  New_city mpg  \\\n",
       "0                MANUAL  rear wheel drive               26            19   \n",
       "1                MANUAL  rear wheel drive               28            19   \n",
       "2                MANUAL  rear wheel drive               28            20   \n",
       "3                MANUAL  rear wheel drive               28            18   \n",
       "4                MANUAL  rear wheel drive               28            18   \n",
       "\n",
       "   New_MSRP  \n",
       "0     46135  \n",
       "1     40650  \n",
       "2     36350  \n",
       "3     29450  \n",
       "4     34500  "
      ]
     },
     "execution_count": 10,
     "metadata": {},
     "output_type": "execute_result"
    }
   ],
   "source": [
    "# Print the head of the dataframe\n",
    "\n",
    "df.head()"
   ]
  },
  {
   "cell_type": "markdown",
   "metadata": {
    "id": "UgNExPnZBw_w"
   },
   "source": [
    "## `Dropping the duplicate rows`"
   ]
  },
  {
   "cell_type": "markdown",
   "metadata": {
    "id": "ozWzkdrSBw_x"
   },
   "source": [
    "There are many rows in the dataframe which are duplicate, and hence they are just repeating the information. Its better if we remove these rows as they don't add any value to the dataframe. \n",
    "\n",
    "For given data, we would like to see how many rows were duplicates. For this, we will count the number of rows, remove the dublicated rows, and again count the number of rows."
   ]
  },
  {
   "cell_type": "code",
   "execution_count": 11,
   "metadata": {
    "id": "drvQvYs2Bw_x",
    "outputId": "a7e6f707-fab9-47f8-86c4-9cbd9f1b110f"
   },
   "outputs": [
    {
     "data": {
      "text/plain": [
       "11914"
      ]
     },
     "execution_count": 11,
     "metadata": {},
     "output_type": "execute_result"
    }
   ],
   "source": [
    "# number of rows before removing duplicated rows\n",
    "\n",
    "len(df.index)"
   ]
  },
  {
   "cell_type": "code",
   "execution_count": 12,
   "metadata": {
    "id": "LvwZZUruBw_x",
    "outputId": "617daeb0-f1e8-46dd-9623-34dd5b4d3bdf"
   },
   "outputs": [
    {
     "data": {
      "text/html": [
       "<div>\n",
       "<style scoped>\n",
       "    .dataframe tbody tr th:only-of-type {\n",
       "        vertical-align: middle;\n",
       "    }\n",
       "\n",
       "    .dataframe tbody tr th {\n",
       "        vertical-align: top;\n",
       "    }\n",
       "\n",
       "    .dataframe thead th {\n",
       "        text-align: right;\n",
       "    }\n",
       "</style>\n",
       "<table border=\"1\" class=\"dataframe\">\n",
       "  <thead>\n",
       "    <tr style=\"text-align: right;\">\n",
       "      <th></th>\n",
       "      <th>New_Make</th>\n",
       "      <th>New_Model</th>\n",
       "      <th>New_Year</th>\n",
       "      <th>New_Engine HP</th>\n",
       "      <th>New_Engine Cylinders</th>\n",
       "      <th>New_Transmission Type</th>\n",
       "      <th>New_Driven_Wheels</th>\n",
       "      <th>New_highway MPG</th>\n",
       "      <th>New_city mpg</th>\n",
       "      <th>New_MSRP</th>\n",
       "    </tr>\n",
       "  </thead>\n",
       "  <tbody>\n",
       "    <tr>\n",
       "      <th>0</th>\n",
       "      <td>BMW</td>\n",
       "      <td>1 Series M</td>\n",
       "      <td>2011</td>\n",
       "      <td>335.0</td>\n",
       "      <td>6.0</td>\n",
       "      <td>MANUAL</td>\n",
       "      <td>rear wheel drive</td>\n",
       "      <td>26</td>\n",
       "      <td>19</td>\n",
       "      <td>46135</td>\n",
       "    </tr>\n",
       "    <tr>\n",
       "      <th>1</th>\n",
       "      <td>BMW</td>\n",
       "      <td>1 Series</td>\n",
       "      <td>2011</td>\n",
       "      <td>300.0</td>\n",
       "      <td>6.0</td>\n",
       "      <td>MANUAL</td>\n",
       "      <td>rear wheel drive</td>\n",
       "      <td>28</td>\n",
       "      <td>19</td>\n",
       "      <td>40650</td>\n",
       "    </tr>\n",
       "    <tr>\n",
       "      <th>2</th>\n",
       "      <td>BMW</td>\n",
       "      <td>1 Series</td>\n",
       "      <td>2011</td>\n",
       "      <td>300.0</td>\n",
       "      <td>6.0</td>\n",
       "      <td>MANUAL</td>\n",
       "      <td>rear wheel drive</td>\n",
       "      <td>28</td>\n",
       "      <td>20</td>\n",
       "      <td>36350</td>\n",
       "    </tr>\n",
       "    <tr>\n",
       "      <th>3</th>\n",
       "      <td>BMW</td>\n",
       "      <td>1 Series</td>\n",
       "      <td>2011</td>\n",
       "      <td>230.0</td>\n",
       "      <td>6.0</td>\n",
       "      <td>MANUAL</td>\n",
       "      <td>rear wheel drive</td>\n",
       "      <td>28</td>\n",
       "      <td>18</td>\n",
       "      <td>29450</td>\n",
       "    </tr>\n",
       "    <tr>\n",
       "      <th>4</th>\n",
       "      <td>BMW</td>\n",
       "      <td>1 Series</td>\n",
       "      <td>2011</td>\n",
       "      <td>230.0</td>\n",
       "      <td>6.0</td>\n",
       "      <td>MANUAL</td>\n",
       "      <td>rear wheel drive</td>\n",
       "      <td>28</td>\n",
       "      <td>18</td>\n",
       "      <td>34500</td>\n",
       "    </tr>\n",
       "  </tbody>\n",
       "</table>\n",
       "</div>"
      ],
      "text/plain": [
       "  New_Make   New_Model  New_Year  New_Engine HP  New_Engine Cylinders  \\\n",
       "0      BMW  1 Series M      2011          335.0                   6.0   \n",
       "1      BMW    1 Series      2011          300.0                   6.0   \n",
       "2      BMW    1 Series      2011          300.0                   6.0   \n",
       "3      BMW    1 Series      2011          230.0                   6.0   \n",
       "4      BMW    1 Series      2011          230.0                   6.0   \n",
       "\n",
       "  New_Transmission Type New_Driven_Wheels  New_highway MPG  New_city mpg  \\\n",
       "0                MANUAL  rear wheel drive               26            19   \n",
       "1                MANUAL  rear wheel drive               28            19   \n",
       "2                MANUAL  rear wheel drive               28            20   \n",
       "3                MANUAL  rear wheel drive               28            18   \n",
       "4                MANUAL  rear wheel drive               28            18   \n",
       "\n",
       "   New_MSRP  \n",
       "0     46135  \n",
       "1     40650  \n",
       "2     36350  \n",
       "3     29450  \n",
       "4     34500  "
      ]
     },
     "execution_count": 12,
     "metadata": {},
     "output_type": "execute_result"
    }
   ],
   "source": [
    "# drop the duplicated rows\n",
    "df = df.drop_duplicates()\n",
    "\n",
    "# print head of df\n",
    "\n",
    "df.head()"
   ]
  },
  {
   "cell_type": "code",
   "execution_count": 13,
   "metadata": {
    "id": "Gg4hjGakBw_y",
    "outputId": "a0f3f48c-7f23-4f2b-911b-57529b32663b"
   },
   "outputs": [
    {
     "data": {
      "text/plain": [
       "10925"
      ]
     },
     "execution_count": 13,
     "metadata": {},
     "output_type": "execute_result"
    }
   ],
   "source": [
    "# Count Number of rows after deleting duplicated rows\n",
    "\n",
    "len(df.index)"
   ]
  },
  {
   "cell_type": "markdown",
   "metadata": {
    "id": "Q06o1NwrBw_z"
   },
   "source": [
    "## `Dropping the null or missing values`"
   ]
  },
  {
   "cell_type": "markdown",
   "metadata": {
    "id": "ddf1mIspBw_z"
   },
   "source": [
    "Missing values are usually represented in the form of Nan or null or None in the dataset.\n",
    "\n",
    "Finding whether we have null values in the data is by using the isnull() function.\n",
    "\n",
    "There are many values which are missing, in pandas dataframe these values are reffered to as np.nan. We want to deal with these values beause we can't use nan values to train models. Either we can remove them to apply some strategy to replace them with other values.\n",
    "\n",
    "To keep things simple we will be dropping nan values"
   ]
  },
  {
   "cell_type": "code",
   "execution_count": 14,
   "metadata": {
    "id": "s0MtVaYABw_z",
    "outputId": "61fbc5cc-d21a-453c-8bf5-8ba42a7f553e"
   },
   "outputs": [
    {
     "data": {
      "text/plain": [
       "New_Make                  0\n",
       "New_Model                 0\n",
       "New_Year                  0\n",
       "New_Engine HP            69\n",
       "New_Engine Cylinders     30\n",
       "New_Transmission Type     0\n",
       "New_Driven_Wheels         0\n",
       "New_highway MPG           0\n",
       "New_city mpg              0\n",
       "New_MSRP                  0\n",
       "dtype: int64"
      ]
     },
     "execution_count": 14,
     "metadata": {},
     "output_type": "execute_result"
    }
   ],
   "source": [
    "# check for nan values in each columns\n",
    "\n",
    "df.isnull().sum()"
   ]
  },
  {
   "cell_type": "markdown",
   "metadata": {
    "id": "58N8lvWRlIVT"
   },
   "source": [
    "As we can see that the HP and Cylinders have null values of 69 and 30. As these null values will impact on models' accuracy. So to avoid the impact we will drop the these values. As these values are small camparing with dataset  that will not impact any major affect on model accuracy so we will drop the values."
   ]
  },
  {
   "cell_type": "code",
   "execution_count": 15,
   "metadata": {
    "id": "TObFlN7xBw_0"
   },
   "outputs": [],
   "source": [
    "# drop missing values\n",
    "df = df.dropna()\n",
    "  "
   ]
  },
  {
   "cell_type": "code",
   "execution_count": 16,
   "metadata": {
    "id": "q3tsOjvcBw_0",
    "outputId": "067469f3-04d9-4894-f1e2-7ee4132a1d79"
   },
   "outputs": [
    {
     "data": {
      "text/plain": [
       "New_Make                 0\n",
       "New_Model                0\n",
       "New_Year                 0\n",
       "New_Engine HP            0\n",
       "New_Engine Cylinders     0\n",
       "New_Transmission Type    0\n",
       "New_Driven_Wheels        0\n",
       "New_highway MPG          0\n",
       "New_city mpg             0\n",
       "New_MSRP                 0\n",
       "dtype: int64"
      ]
     },
     "execution_count": 16,
     "metadata": {},
     "output_type": "execute_result"
    }
   ],
   "source": [
    "# Make sure that missing values are removed\n",
    "# check number of nan values in each col again\n",
    "\n",
    "df.isna().sum()"
   ]
  },
  {
   "cell_type": "code",
   "execution_count": 17,
   "metadata": {
    "id": "N0Ge8_yfBw_1",
    "outputId": "88459604-4bba-434c-d5fb-6e81910b4b50"
   },
   "outputs": [
    {
     "data": {
      "text/html": [
       "<div>\n",
       "<style scoped>\n",
       "    .dataframe tbody tr th:only-of-type {\n",
       "        vertical-align: middle;\n",
       "    }\n",
       "\n",
       "    .dataframe tbody tr th {\n",
       "        vertical-align: top;\n",
       "    }\n",
       "\n",
       "    .dataframe thead th {\n",
       "        text-align: right;\n",
       "    }\n",
       "</style>\n",
       "<table border=\"1\" class=\"dataframe\">\n",
       "  <thead>\n",
       "    <tr style=\"text-align: right;\">\n",
       "      <th></th>\n",
       "      <th>New_Year</th>\n",
       "      <th>New_Engine HP</th>\n",
       "      <th>New_Engine Cylinders</th>\n",
       "      <th>New_highway MPG</th>\n",
       "      <th>New_city mpg</th>\n",
       "      <th>New_MSRP</th>\n",
       "    </tr>\n",
       "  </thead>\n",
       "  <tbody>\n",
       "    <tr>\n",
       "      <th>count</th>\n",
       "      <td>10827.000000</td>\n",
       "      <td>10827.000000</td>\n",
       "      <td>10827.000000</td>\n",
       "      <td>10827.000000</td>\n",
       "      <td>10827.000000</td>\n",
       "      <td>1.082700e+04</td>\n",
       "    </tr>\n",
       "    <tr>\n",
       "      <th>mean</th>\n",
       "      <td>2010.896370</td>\n",
       "      <td>254.553062</td>\n",
       "      <td>5.691604</td>\n",
       "      <td>26.308119</td>\n",
       "      <td>19.327607</td>\n",
       "      <td>4.249325e+04</td>\n",
       "    </tr>\n",
       "    <tr>\n",
       "      <th>std</th>\n",
       "      <td>7.029534</td>\n",
       "      <td>109.841537</td>\n",
       "      <td>1.768551</td>\n",
       "      <td>7.504652</td>\n",
       "      <td>6.643567</td>\n",
       "      <td>6.229451e+04</td>\n",
       "    </tr>\n",
       "    <tr>\n",
       "      <th>min</th>\n",
       "      <td>1990.000000</td>\n",
       "      <td>55.000000</td>\n",
       "      <td>0.000000</td>\n",
       "      <td>12.000000</td>\n",
       "      <td>7.000000</td>\n",
       "      <td>2.000000e+03</td>\n",
       "    </tr>\n",
       "    <tr>\n",
       "      <th>25%</th>\n",
       "      <td>2007.000000</td>\n",
       "      <td>173.000000</td>\n",
       "      <td>4.000000</td>\n",
       "      <td>22.000000</td>\n",
       "      <td>16.000000</td>\n",
       "      <td>2.197250e+04</td>\n",
       "    </tr>\n",
       "    <tr>\n",
       "      <th>50%</th>\n",
       "      <td>2015.000000</td>\n",
       "      <td>240.000000</td>\n",
       "      <td>6.000000</td>\n",
       "      <td>25.000000</td>\n",
       "      <td>18.000000</td>\n",
       "      <td>3.084500e+04</td>\n",
       "    </tr>\n",
       "    <tr>\n",
       "      <th>75%</th>\n",
       "      <td>2016.000000</td>\n",
       "      <td>303.000000</td>\n",
       "      <td>6.000000</td>\n",
       "      <td>30.000000</td>\n",
       "      <td>22.000000</td>\n",
       "      <td>4.330000e+04</td>\n",
       "    </tr>\n",
       "    <tr>\n",
       "      <th>max</th>\n",
       "      <td>2017.000000</td>\n",
       "      <td>1001.000000</td>\n",
       "      <td>16.000000</td>\n",
       "      <td>354.000000</td>\n",
       "      <td>137.000000</td>\n",
       "      <td>2.065902e+06</td>\n",
       "    </tr>\n",
       "  </tbody>\n",
       "</table>\n",
       "</div>"
      ],
      "text/plain": [
       "           New_Year  New_Engine HP  New_Engine Cylinders  New_highway MPG  \\\n",
       "count  10827.000000   10827.000000          10827.000000     10827.000000   \n",
       "mean    2010.896370     254.553062              5.691604        26.308119   \n",
       "std        7.029534     109.841537              1.768551         7.504652   \n",
       "min     1990.000000      55.000000              0.000000        12.000000   \n",
       "25%     2007.000000     173.000000              4.000000        22.000000   \n",
       "50%     2015.000000     240.000000              6.000000        25.000000   \n",
       "75%     2016.000000     303.000000              6.000000        30.000000   \n",
       "max     2017.000000    1001.000000             16.000000       354.000000   \n",
       "\n",
       "       New_city mpg      New_MSRP  \n",
       "count  10827.000000  1.082700e+04  \n",
       "mean      19.327607  4.249325e+04  \n",
       "std        6.643567  6.229451e+04  \n",
       "min        7.000000  2.000000e+03  \n",
       "25%       16.000000  2.197250e+04  \n",
       "50%       18.000000  3.084500e+04  \n",
       "75%       22.000000  4.330000e+04  \n",
       "max      137.000000  2.065902e+06  "
      ]
     },
     "execution_count": 17,
     "metadata": {},
     "output_type": "execute_result"
    }
   ],
   "source": [
    "#Describe statistics of df\n",
    "\n",
    "df.describe()"
   ]
  },
  {
   "cell_type": "markdown",
   "metadata": {
    "id": "qBk8SZ29Bw_1"
   },
   "source": [
    "## `Removing outliers`"
   ]
  },
  {
   "cell_type": "markdown",
   "metadata": {
    "id": "tn5lLccGBw_2"
   },
   "source": [
    "Sometimes a dataset can contain extreme values that are outside the range of what is expected and unlike the other data. These are called outliers and often machine learning modeling and model skill in general can be improved by understanding and even removing these outlier values."
   ]
  },
  {
   "cell_type": "code",
   "execution_count": 18,
   "metadata": {
    "id": "2QnFqFbyBw_3",
    "outputId": "b0a85d54-e5d7-4943-aec5-854695406cac"
   },
   "outputs": [
    {
     "data": {
      "image/png": "[encoded data removed]",
      "text/plain": [
       "<Figure size 720x504 with 1 Axes>"
      ]
     },
     "metadata": {},
     "output_type": "display_data"
    }
   ],
   "source": [
    "## Plot a boxplot for 'Price' column in dataset. \n",
    "\n",
    "fig = plt.figure(figsize = (10,7))\n",
    "\n",
    "plt.boxplot(df['New_MSRP'])\n",
    "plt.title('Box plot of Price column in dataset')\n",
    "plt.show()"
   ]
  },
  {
   "cell_type": "markdown",
   "metadata": {
    "id": "qCpI41VqBci9"
   },
   "source": [
    "### **`Observation:`**<br>\n",
    "\n",
    "Here as you see that we got some values near to 1.5 and 2.0 . So these values are called outliers. Because there are away from the normal values.\n",
    "Now we have detect the outliers of the feature of Price. Similarly we will checking of anothers features."
   ]
  },
  {
   "cell_type": "code",
   "execution_count": 19,
   "metadata": {
    "id": "lvDBhe4jBw_3",
    "outputId": "6acf12e7-757f-4cbc-9020-d1d6a6e40564"
   },
   "outputs": [
    {
     "data": {
      "image/png": "[encoded data removed]",
      "text/plain": [
       "<Figure size 720x504 with 1 Axes>"
      ]
     },
     "metadata": {},
     "output_type": "display_data"
    }
   ],
   "source": [
    "## PLot a boxplot for 'HP' columns in dataset\n",
    "\n",
    "fig = plt.figure(figsize = (10,7))\n",
    "\n",
    "plt.boxplot(df['New_Engine HP'])\n",
    "plt.title('Box plot of HP column in dataset')\n",
    "plt.show()"
   ]
  },
  {
   "cell_type": "markdown",
   "metadata": {
    "id": "-YWNqTn7GI-4"
   },
   "source": [
    "### **`Observation:`**<br>\n",
    "Here boxplots show the proper distribution of of 25 percentile and 75 percentile of the feature of HP."
   ]
  },
  {
   "cell_type": "code",
   "execution_count": null,
   "metadata": {},
   "outputs": [],
   "source": []
  },
  {
   "cell_type": "markdown",
   "metadata": {
    "id": "S9tucB8ABw_4"
   },
   "source": [
    "print all the columns which are of int or float datatype in df. \n",
    "\n",
    "Hint: Use loc with condition"
   ]
  },
  {
   "cell_type": "code",
   "execution_count": 20,
   "metadata": {
    "id": "4uEumv0uBw_4",
    "outputId": "c0c5515e-96dc-4e40-ca4b-e83c76ce7fad"
   },
   "outputs": [
    {
     "data": {
      "text/html": [
       "<div>\n",
       "<style scoped>\n",
       "    .dataframe tbody tr th:only-of-type {\n",
       "        vertical-align: middle;\n",
       "    }\n",
       "\n",
       "    .dataframe tbody tr th {\n",
       "        vertical-align: top;\n",
       "    }\n",
       "\n",
       "    .dataframe thead th {\n",
       "        text-align: right;\n",
       "    }\n",
       "</style>\n",
       "<table border=\"1\" class=\"dataframe\">\n",
       "  <thead>\n",
       "    <tr style=\"text-align: right;\">\n",
       "      <th></th>\n",
       "      <th>New_Year</th>\n",
       "      <th>New_Engine HP</th>\n",
       "      <th>New_Engine Cylinders</th>\n",
       "      <th>New_highway MPG</th>\n",
       "      <th>New_city mpg</th>\n",
       "      <th>New_MSRP</th>\n",
       "    </tr>\n",
       "  </thead>\n",
       "  <tbody>\n",
       "    <tr>\n",
       "      <th>0</th>\n",
       "      <td>2011</td>\n",
       "      <td>335.0</td>\n",
       "      <td>6.0</td>\n",
       "      <td>26</td>\n",
       "      <td>19</td>\n",
       "      <td>46135</td>\n",
       "    </tr>\n",
       "    <tr>\n",
       "      <th>1</th>\n",
       "      <td>2011</td>\n",
       "      <td>300.0</td>\n",
       "      <td>6.0</td>\n",
       "      <td>28</td>\n",
       "      <td>19</td>\n",
       "      <td>40650</td>\n",
       "    </tr>\n",
       "    <tr>\n",
       "      <th>2</th>\n",
       "      <td>2011</td>\n",
       "      <td>300.0</td>\n",
       "      <td>6.0</td>\n",
       "      <td>28</td>\n",
       "      <td>20</td>\n",
       "      <td>36350</td>\n",
       "    </tr>\n",
       "    <tr>\n",
       "      <th>3</th>\n",
       "      <td>2011</td>\n",
       "      <td>230.0</td>\n",
       "      <td>6.0</td>\n",
       "      <td>28</td>\n",
       "      <td>18</td>\n",
       "      <td>29450</td>\n",
       "    </tr>\n",
       "    <tr>\n",
       "      <th>4</th>\n",
       "      <td>2011</td>\n",
       "      <td>230.0</td>\n",
       "      <td>6.0</td>\n",
       "      <td>28</td>\n",
       "      <td>18</td>\n",
       "      <td>34500</td>\n",
       "    </tr>\n",
       "    <tr>\n",
       "      <th>...</th>\n",
       "      <td>...</td>\n",
       "      <td>...</td>\n",
       "      <td>...</td>\n",
       "      <td>...</td>\n",
       "      <td>...</td>\n",
       "      <td>...</td>\n",
       "    </tr>\n",
       "    <tr>\n",
       "      <th>11909</th>\n",
       "      <td>2012</td>\n",
       "      <td>300.0</td>\n",
       "      <td>6.0</td>\n",
       "      <td>23</td>\n",
       "      <td>16</td>\n",
       "      <td>46120</td>\n",
       "    </tr>\n",
       "    <tr>\n",
       "      <th>11910</th>\n",
       "      <td>2012</td>\n",
       "      <td>300.0</td>\n",
       "      <td>6.0</td>\n",
       "      <td>23</td>\n",
       "      <td>16</td>\n",
       "      <td>56670</td>\n",
       "    </tr>\n",
       "    <tr>\n",
       "      <th>11911</th>\n",
       "      <td>2012</td>\n",
       "      <td>300.0</td>\n",
       "      <td>6.0</td>\n",
       "      <td>23</td>\n",
       "      <td>16</td>\n",
       "      <td>50620</td>\n",
       "    </tr>\n",
       "    <tr>\n",
       "      <th>11912</th>\n",
       "      <td>2013</td>\n",
       "      <td>300.0</td>\n",
       "      <td>6.0</td>\n",
       "      <td>23</td>\n",
       "      <td>16</td>\n",
       "      <td>50920</td>\n",
       "    </tr>\n",
       "    <tr>\n",
       "      <th>11913</th>\n",
       "      <td>2006</td>\n",
       "      <td>221.0</td>\n",
       "      <td>6.0</td>\n",
       "      <td>26</td>\n",
       "      <td>17</td>\n",
       "      <td>28995</td>\n",
       "    </tr>\n",
       "  </tbody>\n",
       "</table>\n",
       "<p>10827 rows × 6 columns</p>\n",
       "</div>"
      ],
      "text/plain": [
       "       New_Year  New_Engine HP  New_Engine Cylinders  New_highway MPG  \\\n",
       "0          2011          335.0                   6.0               26   \n",
       "1          2011          300.0                   6.0               28   \n",
       "2          2011          300.0                   6.0               28   \n",
       "3          2011          230.0                   6.0               28   \n",
       "4          2011          230.0                   6.0               28   \n",
       "...         ...            ...                   ...              ...   \n",
       "11909      2012          300.0                   6.0               23   \n",
       "11910      2012          300.0                   6.0               23   \n",
       "11911      2012          300.0                   6.0               23   \n",
       "11912      2013          300.0                   6.0               23   \n",
       "11913      2006          221.0                   6.0               26   \n",
       "\n",
       "       New_city mpg  New_MSRP  \n",
       "0                19     46135  \n",
       "1                19     40650  \n",
       "2                20     36350  \n",
       "3                18     29450  \n",
       "4                18     34500  \n",
       "...             ...       ...  \n",
       "11909            16     46120  \n",
       "11910            16     56670  \n",
       "11911            16     50620  \n",
       "11912            16     50920  \n",
       "11913            17     28995  \n",
       "\n",
       "[10827 rows x 6 columns]"
      ]
     },
     "execution_count": 20,
     "metadata": {},
     "output_type": "execute_result"
    }
   ],
   "source": [
    "# print all the columns which are of int or float datatype in df.\n",
    "\n",
    "df.loc[:,[x for x in df.columns if df[x].dtypes!='object']]\n"
   ]
  },
  {
   "cell_type": "markdown",
   "metadata": {
    "id": "pQOOqmvEBw_5"
   },
   "source": [
    "### `Save the column names of the above output in variable list named 'l'`\n"
   ]
  },
  {
   "cell_type": "code",
   "execution_count": 21,
   "metadata": {
    "id": "PgJz8dtQBw_5"
   },
   "outputs": [],
   "source": [
    "# save column names of the above output in variable list\n",
    "l=(df.loc[:,[x for x in df.columns if df[x].dtypes!='object']].columns).tolist()\n"
   ]
  },
  {
   "cell_type": "code",
   "execution_count": 22,
   "metadata": {},
   "outputs": [
    {
     "data": {
      "text/plain": [
       "['New_Year',\n",
       " 'New_Engine HP',\n",
       " 'New_Engine Cylinders',\n",
       " 'New_highway MPG',\n",
       " 'New_city mpg',\n",
       " 'New_MSRP']"
      ]
     },
     "execution_count": 22,
     "metadata": {},
     "output_type": "execute_result"
    }
   ],
   "source": [
    "l"
   ]
  },
  {
   "cell_type": "markdown",
   "metadata": {
    "id": "3iAhdSFPBw_5"
   },
   "source": [
    "## **`Outliers removal techniques - IQR Method`**\n",
    " "
   ]
  },
  {
   "cell_type": "markdown",
   "metadata": {
    "id": "4u67f7AzBw_6"
   },
   "source": [
    "**Here comes cool Fact for you!**\n",
    "\n",
    "IQR is the first quartile subtracted from the third quartile; these quartiles can be clearly seen on a box plot on the data."
   ]
  },
  {
   "cell_type": "markdown",
   "metadata": {
    "id": "eMW1PTL_Bw_6"
   },
   "source": [
    "- Calculate IQR  and give a suitable threshold to remove the outliers and save this new dataframe into df2.\n",
    "\n",
    "Let us help you to decide threshold: Outliers in this case are defined as the observations that are below (Q1 − 1.5x IQR) or above (Q3 + 1.5x IQR)"
   ]
  },
  {
   "cell_type": "code",
   "execution_count": 23,
   "metadata": {
    "id": "G5EHp8JxBw_6"
   },
   "outputs": [],
   "source": [
    "## define Q1 and Q2\n",
    "Q1_HP = np.percentile(df['New_Engine HP'], 25, interpolation = 'midpoint')\n",
    "Q3_HP = np.percentile(df['New_Engine HP'], 75, interpolation = 'midpoint')\n",
    "Q1_New_MSRP = np.percentile(df['New_MSRP'], 25, interpolation = 'midpoint')\n",
    "Q3_New_MSRP = np.percentile(df['New_MSRP'], 75, interpolation = 'midpoint')\n",
    "\n",
    "# # define IQR (interquantile range) \n",
    "IQR_HP = Q3_HP-Q1_HP\n",
    "IQR_New_MSRP = Q3_New_MSRP-Q1_New_MSRP\n",
    "\n",
    "\n"
   ]
  },
  {
   "cell_type": "code",
   "execution_count": 24,
   "metadata": {},
   "outputs": [],
   "source": [
    "# # define df2 after removing outliers\n",
    "df2 = df[~((df['New_Engine HP'] < (Q1_HP - 1.5 * IQR_HP)) |(df['New_Engine HP'] > (Q3_HP + 1.5 * IQR_HP)) | (df['New_MSRP'] < (Q1_New_MSRP - 1.5 * IQR_New_MSRP)) |(df['New_MSRP'] > (Q3_New_MSRP + 1.5 * IQR_New_MSRP)))]"
   ]
  },
  {
   "cell_type": "code",
   "execution_count": 25,
   "metadata": {},
   "outputs": [
    {
     "name": "stdout",
     "output_type": "stream",
     "text": [
      "(10827, 10)\n",
      "(9858, 10)\n"
     ]
    }
   ],
   "source": [
    "# find the shape of df & df2\n",
    "print(df.shape)\n",
    "print(df2.shape)"
   ]
  },
  {
   "cell_type": "code",
   "execution_count": 26,
   "metadata": {
    "id": "Ok1cLuSEBxAB",
    "outputId": "40c55ded-4804-4ecb-b6ab-9795033207dd"
   },
   "outputs": [
    {
     "name": "stdout",
     "output_type": "stream",
     "text": [
      "--------------- New_Make ----------------\n",
      "Chevrolet        1043\n",
      "Ford              798\n",
      "Toyota            651\n",
      "Volkswagen        563\n",
      "Nissan            540\n",
      "Dodge             513\n",
      "GMC               475\n",
      "Honda             429\n",
      "Cadillac          396\n",
      "Mazda             392\n",
      "Mercedes-Benz     340\n",
      "Suzuki            338\n",
      "Infiniti          326\n",
      "BMW               324\n",
      "Audi              320\n",
      "Hyundai           254\n",
      "Acura             246\n",
      "Volvo             241\n",
      "Subaru            229\n",
      "Kia               219\n",
      "Mitsubishi        202\n",
      "Lexus             201\n",
      "Chrysler          185\n",
      "Buick             184\n",
      "Pontiac           163\n",
      "Lincoln           152\n",
      "Porsche           134\n",
      "Land Rover        126\n",
      "Oldsmobile        111\n",
      "Saab              101\n",
      "Aston Martin       91\n",
      "Bentley            74\n",
      "Ferrari            69\n",
      "Plymouth           62\n",
      "Scion              60\n",
      "FIAT               58\n",
      "Maserati           55\n",
      "Lamborghini        52\n",
      "Rolls-Royce        31\n",
      "Lotus              28\n",
      "HUMMER             17\n",
      "Maybach            16\n",
      "McLaren             5\n",
      "Alfa Romeo          5\n",
      "Genesis             3\n",
      "Bugatti             3\n",
      "Spyker              2\n",
      "Name: New_Make, dtype: int64\n",
      "--------------- New_Model ----------------\n",
      "Silverado 1500                      156\n",
      "F-150                               126\n",
      "Sierra 1500                          90\n",
      "Tundra                               78\n",
      "Frontier                             76\n",
      "                                   ... \n",
      "Pulsar                                1\n",
      "Yukon Denali                          1\n",
      "Continental GT Speed Convertible      1\n",
      "Dawn                                  1\n",
      "XC                                    1\n",
      "Name: New_Model, Length: 904, dtype: int64\n",
      "--------------- New_Year ----------------\n",
      "2015    2029\n",
      "2016    2022\n",
      "2017    1580\n",
      "2014     530\n",
      "2012     350\n",
      "2009     349\n",
      "2007     332\n",
      "2013     320\n",
      "2008     316\n",
      "2011     278\n",
      "2010     272\n",
      "2003     233\n",
      "2004     230\n",
      "2005     205\n",
      "2002     203\n",
      "2006     194\n",
      "2001     168\n",
      "1997     148\n",
      "1998     143\n",
      "1993     135\n",
      "2000     114\n",
      "1999     111\n",
      "1994     109\n",
      "1992     104\n",
      "1995     103\n",
      "1996      98\n",
      "1991      84\n",
      "1990      67\n",
      "Name: New_Year, dtype: int64\n",
      "--------------- New_Engine HP ----------------\n",
      "200.0    373\n",
      "170.0    255\n",
      "240.0    248\n",
      "285.0    246\n",
      "210.0    243\n",
      "        ... \n",
      "372.0      1\n",
      "535.0      1\n",
      "151.0      1\n",
      "573.0      1\n",
      "557.0      1\n",
      "Name: New_Engine HP, Length: 355, dtype: int64\n",
      "--------------- New_Engine Cylinders ----------------\n",
      "4.0     4227\n",
      "6.0     4215\n",
      "8.0     1889\n",
      "12.0     228\n",
      "5.0      159\n",
      "10.0      65\n",
      "3.0       28\n",
      "0.0       13\n",
      "16.0       3\n",
      "Name: New_Engine Cylinders, dtype: int64\n",
      "--------------- New_Transmission Type ----------------\n",
      "AUTOMATIC           7750\n",
      "MANUAL              2498\n",
      "AUTOMATED_MANUAL     553\n",
      "DIRECT_DRIVE          15\n",
      "UNKNOWN               11\n",
      "Name: New_Transmission Type, dtype: int64\n",
      "--------------- New_Driven_Wheels ----------------\n",
      "front wheel drive    4168\n",
      "rear wheel drive     3120\n",
      "all wheel drive      2281\n",
      "four wheel drive     1258\n",
      "Name: New_Driven_Wheels, dtype: int64\n",
      "--------------- New_highway MPG ----------------\n",
      "24     822\n",
      "23     758\n",
      "26     725\n",
      "22     686\n",
      "25     685\n",
      "28     651\n",
      "27     555\n",
      "30     499\n",
      "31     488\n",
      "19     488\n",
      "21     488\n",
      "20     469\n",
      "29     425\n",
      "18     345\n",
      "17     340\n",
      "33     329\n",
      "32     292\n",
      "34     270\n",
      "35     199\n",
      "16     199\n",
      "36     191\n",
      "37     166\n",
      "38     130\n",
      "15     116\n",
      "40     109\n",
      "39     107\n",
      "41      65\n",
      "42      46\n",
      "14      37\n",
      "46      21\n",
      "44      21\n",
      "43      21\n",
      "48      16\n",
      "45      14\n",
      "13      13\n",
      "50      10\n",
      "47       7\n",
      "109      6\n",
      "12       5\n",
      "53       5\n",
      "82       3\n",
      "111      3\n",
      "106      1\n",
      "354      1\n",
      "Name: New_highway MPG, dtype: int64\n",
      "--------------- New_city mpg ----------------\n",
      "17     1154\n",
      "16     1014\n",
      "15      949\n",
      "18      938\n",
      "19      793\n",
      "20      742\n",
      "14      603\n",
      "22      571\n",
      "21      551\n",
      "13      537\n",
      "23      425\n",
      "25      392\n",
      "24      372\n",
      "12      282\n",
      "27      243\n",
      "26      207\n",
      "11      187\n",
      "28      160\n",
      "30      127\n",
      "31      116\n",
      "29       98\n",
      "10       76\n",
      "9        33\n",
      "32       21\n",
      "36       20\n",
      "34       20\n",
      "40       19\n",
      "44       18\n",
      "41       17\n",
      "42       17\n",
      "35       15\n",
      "43       13\n",
      "53       13\n",
      "33       13\n",
      "54       10\n",
      "8         9\n",
      "37        8\n",
      "50        6\n",
      "51        6\n",
      "128       6\n",
      "39        6\n",
      "49        4\n",
      "137       3\n",
      "85        3\n",
      "55        3\n",
      "58        2\n",
      "47        2\n",
      "129       1\n",
      "38        1\n",
      "7         1\n",
      "Name: New_city mpg, dtype: int64\n",
      "--------------- New_MSRP ----------------\n",
      "2000     599\n",
      "29995     18\n",
      "25995     16\n",
      "27995     15\n",
      "20995     15\n",
      "        ... \n",
      "38270      1\n",
      "34180      1\n",
      "30090      1\n",
      "54670      1\n",
      "4098       1\n",
      "Name: New_MSRP, Length: 6014, dtype: int64\n"
     ]
    }
   ],
   "source": [
    "# find unique values and there counts in each column in df using value counts function.\n",
    "\n",
    "for i in df.columns:\n",
    "    print (\"--------------- %s ----------------\" % i)\n",
    "    print(df[i].value_counts())"
   ]
  },
  {
   "cell_type": "markdown",
   "metadata": {
    "id": "zQ0GaJ_kBxAB"
   },
   "source": [
    "## `Visualising Univariate Distributions`"
   ]
  },
  {
   "cell_type": "markdown",
   "metadata": {
    "id": "H0PQlhWEBxAC"
   },
   "source": [
    "We will use seaborn library to visualize eye catchy univariate plots. \n",
    "\n",
    "Do you know? you have just now already explored one univariate plot. guess which one? Yeah its box plot.\n"
   ]
  },
  {
   "cell_type": "markdown",
   "metadata": {
    "id": "SnzpC8JABxAC"
   },
   "source": [
    "### `Histogram & Density Plots`\n",
    "\n",
    "Histograms and density plots show the frequency of a numeric variable along the y-axis, and the value along the x-axis. The ```sns.distplot()``` function plots a density curve. Notice that this is aesthetically better than vanilla ```matplotlib```."
   ]
  },
  {
   "cell_type": "code",
   "execution_count": 27,
   "metadata": {
    "id": "-uqWiICoBxAC",
    "outputId": "47e45800-1103-40e0-e407-93977635ea53"
   },
   "outputs": [
    {
     "data": {
      "text/plain": [
       "<AxesSubplot: xlabel='New_Engine HP'>"
      ]
     },
     "execution_count": 27,
     "metadata": {},
     "output_type": "execute_result"
    },
    {
     "data": {
      "image/png": "[encoded data removed]",
      "text/plain": [
       "<Figure size 432x288 with 1 Axes>"
      ]
     },
     "metadata": {},
     "output_type": "display_data"
    }
   ],
   "source": [
    "#ploting distplot for variable HP\n",
    "\n",
    "sns.distplot(df2['New_Engine HP'], kde = False, color ='red', bins = 30)"
   ]
  },
  {
   "cell_type": "markdown",
   "metadata": {
    "id": "1GSaLnCxiWHc"
   },
   "source": [
    "### **`Observation:`**\n",
    "We plot the Histogram of feature HP with help of distplot in seaborn.<br> \n",
    "In this graph we can see that there is max values near at 200. similary we have also the 2nd highest value near 400 and so on. <br>\n",
    "It represents the overall distribution of continuous data variables.<br>"
   ]
  },
  {
   "cell_type": "markdown",
   "metadata": {
    "id": "-P7Xup3vBxAD"
   },
   "source": [
    "Since seaborn uses matplotlib behind the scenes, the usual matplotlib functions work well with seaborn. For example, you can use subplots to plot multiple univariate distributions.\n",
    "- Hint: use matplotlib subplot function"
   ]
  },
  {
   "cell_type": "code",
   "execution_count": 43,
   "metadata": {
    "id": "CdlvvfvfBxAD",
    "outputId": "23484911-5553-41bd-cdf6-8bd38a526ce7"
   },
   "outputs": [
    {
     "data": {
      "image/png": "[encoded data removed]",
      "text/plain": [
       "<Figure size 1080x720 with 6 Axes>"
      ]
     },
     "metadata": {},
     "output_type": "display_data"
    }
   ],
   "source": [
    "# plot all the columns present in list l together using subplot of dimention (2,3).\n",
    "\n",
    "\n",
    "fig, axes = plt.subplots(2,3, figsize=(15,10))\n",
    "\n",
    "# Flatten the axes array\n",
    "axes = axes.flatten()\n",
    "\n",
    "# Loop through each column and plot it in a subplot\n",
    "for i, column in enumerate(l):\n",
    "    # Plot the column in the current subplot\n",
    "    sns.lineplot(data=df[column], ax=axes[i])  # Replace `column` with your actual data\n",
    "\n",
    "    # Set the subplot title as the column name\n",
    "    axes[i].set_title(column)\n",
    "\n",
    "plt.show()"
   ]
  },
  {
   "cell_type": "markdown",
   "metadata": {
    "id": "ziOcNh-sBxAD"
   },
   "source": [
    "## `Bar Chart Plots`\n"
   ]
  },
  {
   "cell_type": "markdown",
   "metadata": {
    "id": "lF54VPLRBxAE"
   },
   "source": [
    "Plot a histogram depicting the make in X axis and number of cars in y axis. <br>"
   ]
  },
  {
   "cell_type": "code",
   "execution_count": 31,
   "metadata": {
    "id": "d1gpl5LxBxAE",
    "outputId": "726eae7f-c413-456a-e989-960d43a9c89b"
   },
   "outputs": [
    {
     "data": {
      "image/png": "[encoded data removed]",
      "text/plain": [
       "<Figure size 864x432 with 1 Axes>"
      ]
     },
     "metadata": {},
     "output_type": "display_data"
    }
   ],
   "source": [
    "# plt.figure(figsize = (12,8))\n",
    "\n",
    "# use nlargest and then .plot to get bar plot like below output\n",
    "# Plot Title, X & Y label\n",
    "make_counts = df2['New_Make'].value_counts()\n",
    "counts = make_counts.values\n",
    "makes = make_counts.index\n",
    "plt.figure(figsize=(12, 6))\n",
    "plt.bar(makes, counts)\n",
    "plt.xlabel('Make')\n",
    "plt.xticks(rotation = 90)\n",
    "plt.ylabel('Number of Cars')\n",
    "plt.title('Number of Cars by Make')\n",
    "plt.show()\n",
    "\n"
   ]
  },
  {
   "cell_type": "markdown",
   "metadata": {
    "id": "N-8CXMKVkn-I"
   },
   "source": [
    "### **`Observation:`**\n",
    "In this plot we can see that we have plot the bar plot with the cars model and nos. of cars."
   ]
  },
  {
   "cell_type": "markdown",
   "metadata": {
    "id": "Xk2s0-9UBxAE"
   },
   "source": [
    "### `Count Plot`\n",
    "A count plot can be thought of as a histogram across a categorical, instead of quantitative, variable.\n"
   ]
  },
  {
   "cell_type": "markdown",
   "metadata": {
    "id": "OmT9X5aBBxAF"
   },
   "source": [
    " Plot a countplot for a variable Transmission vertically with hue as Drive mode"
   ]
  },
  {
   "cell_type": "code",
   "execution_count": 32,
   "metadata": {},
   "outputs": [
    {
     "data": {
      "text/plain": [
       "Index(['New_Make', 'New_Model', 'New_Year', 'New_Engine HP',\n",
       "       'New_Engine Cylinders', 'New_Transmission Type', 'New_Driven_Wheels',\n",
       "       'New_highway MPG', 'New_city mpg', 'New_MSRP'],\n",
       "      dtype='object')"
      ]
     },
     "execution_count": 32,
     "metadata": {},
     "output_type": "execute_result"
    }
   ],
   "source": [
    "df.columns"
   ]
  },
  {
   "cell_type": "code",
   "execution_count": 33,
   "metadata": {
    "id": "UyYYXn36BxAF",
    "outputId": "24b59852-4612-4065-cf6e-29b02c259565"
   },
   "outputs": [
    {
     "data": {
      "image/png": "[encoded data removed]",
      "text/plain": [
       "<Figure size 1080x360 with 2 Axes>"
      ]
     },
     "metadata": {},
     "output_type": "display_data"
    }
   ],
   "source": [
    "fig, axs = plt.subplots(1, 2, figsize=(15, 5))\n",
    "\n",
    "# plot countplot on transmission and drive mode\n",
    "\n",
    "sns.countplot(x='New_Transmission Type',data=df,ax=axs[0])\n",
    "sns.countplot(x='New_Driven_Wheels',data=df,ax=axs[1])\n",
    "plt.xticks(rotation = 60)\n",
    "\n",
    "plt.show()\n"
   ]
  },
  {
   "cell_type": "markdown",
   "metadata": {
    "id": "9I0XvhdTla4h"
   },
   "source": [
    "### **`Observation:`**\n",
    "In this count plot, We have plot the feature of Transmission with help of hue.<br>\n",
    "We can see that the the nos of count and the transmission type and automated manual is plotted. Drive mode as been given with help of hue.<br>\n"
   ]
  },
  {
   "cell_type": "markdown",
   "metadata": {
    "id": "zDHMfUpNBxAF"
   },
   "source": [
    "# `Visualising Bivariate Distributions`\n",
    "\n",
    "\n",
    "Bivariate distributions are simply two univariate distributions plotted on x and y axes respectively. They help you observe the relationship between the two variables.\n",
    "\n",
    "\n"
   ]
  },
  {
   "cell_type": "markdown",
   "metadata": {
    "id": "DQxcdTZsBxAG"
   },
   "source": [
    "## `Scatter Plots`\n",
    "Scatterplots are used to find the correlation between two continuos variables.\n",
    "\n",
    "Using scatterplot find the correlation between 'HP' and 'Price' column of the data. \n",
    "\n"
   ]
  },
  {
   "cell_type": "code",
   "execution_count": 34,
   "metadata": {
    "id": "L5zvuQD8BxAG",
    "outputId": "6cc2ef16-7039-4eaa-df3f-7bdd6b4e5c80"
   },
   "outputs": [
    {
     "data": {
      "image/png": "[encoded data removed]",
      "text/plain": [
       "<Figure size 720x432 with 1 Axes>"
      ]
     },
     "metadata": {},
     "output_type": "display_data"
    }
   ],
   "source": [
    "## Your code here - \n",
    "fig, ax = plt.subplots(figsize=(10,6))\n",
    "\n",
    "# plot scatterplot on hp and price\n",
    "\n",
    "sns.scatterplot(df['New_Engine HP'],df['New_MSRP'])\n",
    "plt.show()\n"
   ]
  },
  {
   "cell_type": "markdown",
   "metadata": {
    "id": "kPLqA4B6o92w"
   },
   "source": [
    "### **`Observation:`**<br>\n",
    "It is a type of plot or mathematical diagram using Cartesian coordinates to display values for typically two variables for a set of data.<br>\n",
    "We have plot the scatter plot with x axis as HP and y axis as Price.<br>\n",
    "The data points between the features should be same either wise it give errors.<br>\n"
   ]
  },
  {
   "cell_type": "markdown",
   "metadata": {
    "id": "HEUOARh5BxAN"
   },
   "source": [
    "## `Plotting Aggregated Values across Categories`\n",
    "\n",
    "\n",
    "### `Bar Plots - Mean, Median and Count Plots`\n",
    "\n",
    "\n",
    "\n",
    "Bar plots are used to **display aggregated values** of a variable, rather than entire distributions. This is especially useful when you have a lot of data which is difficult to visualise in a single figure. \n",
    "\n",
    "For example, say you want to visualise and *compare the Price across Cylinders*. The ```sns.barplot()``` function can be used to do that.\n"
   ]
  },
  {
   "cell_type": "code",
   "execution_count": 35,
   "metadata": {
    "id": "dTSOpY5jBxAN",
    "outputId": "13ca613f-edab-42d8-819d-84cc5b566ee2"
   },
   "outputs": [
    {
     "data": {
      "image/png": "[encoded data removed]",
      "text/plain": [
       "<Figure size 432x288 with 1 Axes>"
      ]
     },
     "metadata": {},
     "output_type": "display_data"
    }
   ],
   "source": [
    "# bar plot with default statistic=mean between Cylinder and Price\n",
    "\n",
    "sns.barplot(x='New_Engine Cylinders', y='New_MSRP', data=df)\n",
    "\n",
    "plt.xlabel('Cylinder')\n",
    "plt.ylabel('Mean Price')\n",
    "plt.title('Mean Price by Cylinder')\n",
    "plt.show()\n"
   ]
  },
  {
   "cell_type": "markdown",
   "metadata": {
    "id": "rFd9QisOBxAO"
   },
   "source": [
    "### **`Observation:`**<br>\n",
    "By default, seaborn plots the mean value across categories, though you can plot the count, median, sum etc.<br>\n",
    "Also, barplot computes and shows the confidence interval of the mean as well.\n",
    "\n"
   ]
  },
  {
   "cell_type": "markdown",
   "metadata": {
    "id": "od8Fuqm_BxAO"
   },
   "source": [
    "## `When you want to visualise having a large number of categories, it is helpful to plot the categories across the y-axis.`\n",
    "\n",
    "### `Let's now drill down into Transmission sub categories.`"
   ]
  },
  {
   "cell_type": "code",
   "execution_count": 36,
   "metadata": {},
   "outputs": [
    {
     "data": {
      "text/plain": [
       "Index(['New_Make', 'New_Model', 'New_Year', 'New_Engine HP',\n",
       "       'New_Engine Cylinders', 'New_Transmission Type', 'New_Driven_Wheels',\n",
       "       'New_highway MPG', 'New_city mpg', 'New_MSRP'],\n",
       "      dtype='object')"
      ]
     },
     "execution_count": 36,
     "metadata": {},
     "output_type": "execute_result"
    }
   ],
   "source": [
    "df.columns"
   ]
  },
  {
   "cell_type": "code",
   "execution_count": 37,
   "metadata": {
    "id": "lJnPU4KtBxAP",
    "outputId": "2dfa446f-874f-435f-dba0-a17f30f34718"
   },
   "outputs": [
    {
     "data": {
      "image/png": "[encoded data removed]",
      "text/plain": [
       "<Figure size 432x288 with 1 Axes>"
      ]
     },
     "metadata": {},
     "output_type": "display_data"
    }
   ],
   "source": [
    "# Plotting categorical variable Transmission across the y-axis\n",
    "\n",
    "sns.barplot(x='New_MSRP',y='New_Transmission Type' , data=df)\n",
    "\n",
    "plt.xlabel('Transmission Type')\n",
    "plt.ylabel('Mean Price')\n",
    "plt.title('Type of Transmission')\n",
    "plt.show()\n",
    "\n"
   ]
  },
  {
   "cell_type": "markdown",
   "metadata": {
    "id": "Q5Y7xg3ZBxAQ"
   },
   "source": [
    "These plots looks beutiful isn't it? In Data Analyst life such charts are there unavoidable friend.:)"
   ]
  },
  {
   "cell_type": "markdown",
   "metadata": {
    "id": "QX2szH0MBxAQ"
   },
   "source": [
    "# `Multivariate Plots`\n",
    "\n"
   ]
  },
  {
   "cell_type": "markdown",
   "metadata": {
    "id": "_wiepyZEBxAT"
   },
   "source": [
    "## `Heatmaps`\n",
    "\n",
    "\n",
    "A heat map is a two-dimensional representation of information with the help of colors. Heat maps can help the user visualize simple or complex information"
   ]
  },
  {
   "cell_type": "markdown",
   "metadata": {
    "id": "VslkQJNWBxAU"
   },
   "source": [
    "Using heatmaps plot the correlation between the features present in the dataset."
   ]
  },
  {
   "cell_type": "code",
   "execution_count": 39,
   "metadata": {
    "id": "DWpcsVJCBxAU",
    "outputId": "dae92aaa-5a7f-4acf-8082-03555340ee16"
   },
   "outputs": [
    {
     "name": "stdout",
     "output_type": "stream",
     "text": [
      "                      New_Year  New_Engine HP  New_Engine Cylinders  \\\n",
      "New_Year              1.000000       0.314971             -0.050598   \n",
      "New_Engine HP         0.314971       1.000000              0.788007   \n",
      "New_Engine Cylinders -0.050598       0.788007              1.000000   \n",
      "New_highway MPG       0.284237      -0.420281             -0.611576   \n",
      "New_city mpg          0.234135      -0.473551             -0.632407   \n",
      "New_MSRP              0.196789       0.659835              0.554740   \n",
      "\n",
      "                      New_highway MPG  New_city mpg  New_MSRP  \n",
      "New_Year                     0.284237      0.234135  0.196789  \n",
      "New_Engine HP               -0.420281     -0.473551  0.659835  \n",
      "New_Engine Cylinders        -0.611576     -0.632407  0.554740  \n",
      "New_highway MPG              1.000000      0.841229 -0.209150  \n",
      "New_city mpg                 0.841229      1.000000 -0.234050  \n",
      "New_MSRP                    -0.209150     -0.234050  1.000000  \n"
     ]
    }
   ],
   "source": [
    "#find the correlation of features of the data \n",
    "corr = df.corr()\n",
    "\n",
    "print (corr)\n"
   ]
  },
  {
   "cell_type": "code",
   "execution_count": 41,
   "metadata": {
    "id": "rDqYeuI1BxAW",
    "outputId": "e20f0d9a-e76f-4f59-8ebb-11047156049d"
   },
   "outputs": [
    {
     "data": {
      "image/png": "[encoded data removed]",
      "text/plain": [
       "<Figure size 864x576 with 2 Axes>"
      ]
     },
     "metadata": {},
     "output_type": "display_data"
    }
   ],
   "source": [
    "# Using the correlated df, plot the heatmap \n",
    "# set cmap = 'BrBG', annot = True - to get the same graph as shown below \n",
    "# set size of graph = (12,8)\n",
    "plt.figure(figsize =(12,8))\n",
    "sns.heatmap(corr, cmap ='BrBG', annot = True)\n",
    "plt.show()"
   ]
  },
  {
   "cell_type": "markdown",
   "metadata": {
    "id": "-uMl7P-DBxAX"
   },
   "source": [
    "### **`Observation:`**<br>\n",
    "A heatmap contains values representing various shades of the same colour for each value to be plotted. Usually the darker shades of the chart represent higher values than the lighter shade. For a very different value a completely different colour can also be used.\n",
    "\n",
    "\n",
    "The above heatmap plot shows correlation between various variables in the colored scale of -1 to 1. \n"
   ]
  },
  {
   "cell_type": "code",
   "execution_count": null,
   "metadata": {},
   "outputs": [],
   "source": []
  }
 ],
 "metadata": {
  "colab": {
   "collapsed_sections": [],
   "provenance": []
  },
  "kernelspec": {
   "display_name": "Python 3",
   "language": "python",
   "name": "python3"
  },
  "language_info": {
   "codemirror_mode": {
    "name": "ipython",
    "version": 3
   },
   "file_extension": ".py",
   "mimetype": "text/x-python",
   "name": "python",
   "nbconvert_exporter": "python",
   "pygments_lexer": "ipython3",
   "version": "3.8.5"
  }
 },
 "nbformat": 4,
 "nbformat_minor": 1
}
