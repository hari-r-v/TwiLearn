{
  "cells": [
    {
      "cell_type": "markdown",
      "metadata": {
        "id": "QvtD0SxEOPGe"
      },
      "source": [
        "<a id='1'></a><center> <h3 style=\"background-color:orange; color:white\" ><br>Telecommunication Industry Project<br></h3>"
      ]
    },
    {
      "cell_type": "markdown",
      "metadata": {
        "id": "_pzTIrVbOcFF"
      },
      "source": [
        "# Introduction\n",
        "This Jupyter notebook is part of your learning experience in the study of applied statistics.\n",
        "\n",
        "You will work with a data set that contains mobile phone prices and their specifications.\n",
        "\n",
        "**Dataset Columns Information**\n",
        "\n",
        "PID = a unique identifier for the phone model\n",
        "\n",
        "Blue = whether the phone has bluetooth support or not\n",
        "\n",
        "Wi_Fi = whether the phone has wifi support or not\n",
        "\n",
        "Tch_Scr = whether the phone has touch screen support or not\n",
        "\n",
        "Ext_Mem = whether the phone has external memory support or not\n",
        "\n",
        "Px_h = number of pixels in the vertical axis of the phone\n",
        "\n",
        "Px_w = number of pixels in the horizontal axis of the phone\n",
        "\n",
        "Scr_h = height of the screen of the phone in centimetres (cm)\n",
        "\n",
        "Scr_w = width of the screen of the phone in centimetres (cm)\n",
        "\n",
        "Int_Mem = internal memory of the phone measured in megabytes (MB)\n",
        "\n",
        "Bty_Pwr = maximum energy stored by the phone's battery measured in \n",
        "milli-Ampere-hours (mAh)\n",
        "\n",
        "PC = resolution of the primary camera measued in megapixels (MP)\n",
        "\n",
        "FC = resolution of the front camera measued in megapixels (MP)\n",
        "\n",
        "RAM = random access memory available in the phone measured in gigabytes (GB)\n",
        "\n",
        "Depth = depth of the mobile phone measured in centimetres (cm)\n",
        "\n",
        "Weight = weight of the mobile phone measured in grams (g)\n",
        "\n",
        "Price = selling price of the mobile phone in rupees\n"
      ]
    },
    {
      "cell_type": "code",
      "execution_count": null,
      "metadata": {
        "id": "wEXybtFON854"
      },
      "outputs": [],
      "source": []
    },
    {
      "cell_type": "markdown",
      "metadata": {
        "id": "YCLhIkwFO4Tj"
      },
      "source": [
        "## Task 1 - Load and study the data"
      ]
    },
    {
      "cell_type": "markdown",
      "metadata": {
        "id": "CBMdPgPUO89Y"
      },
      "source": [
        "Import the libraries that will be used in this notebook"
      ]
    },
    {
      "cell_type": "code",
      "execution_count": 1,
      "metadata": {
        "id": "z9ZS2Tw2N857"
      },
      "outputs": [],
      "source": [
        "# Load \"numpy\" and \"pandas\" for manipulating numbers and data frames\n",
        "# Load \"matplotlib.pyplot\" and \"seaborn\" for data visualisation\n",
        "import numpy as np\n",
        "import pandas as pd\n",
        "import matplotlib.pyplot as plt\n",
        "import seaborn as sns\n"
      ]
    },
    {
      "cell_type": "markdown",
      "metadata": {
        "id": "7rdvm8PDPCgM"
      },
      "source": [
        "Load the csv file as pandas dataframe. "
      ]
    },
    {
      "cell_type": "code",
      "execution_count": 2,
      "metadata": {
        "id": "7p5Rg_AkN858"
      },
      "outputs": [],
      "source": [
        "# Read in the \"Dataset\" file as a Pandas Data Frame\n",
        "\n",
        "data = pd.read_csv('Day_22-Mobile_Phones.csv')"
      ]
    },
    {
      "cell_type": "code",
      "execution_count": 3,
      "metadata": {
        "id": "WdfT3N-iN859"
      },
      "outputs": [
        {
          "data": {
            "text/html": [
              "<div>\n",
              "<style scoped>\n",
              "    .dataframe tbody tr th:only-of-type {\n",
              "        vertical-align: middle;\n",
              "    }\n",
              "\n",
              "    .dataframe tbody tr th {\n",
              "        vertical-align: top;\n",
              "    }\n",
              "\n",
              "    .dataframe thead th {\n",
              "        text-align: right;\n",
              "    }\n",
              "</style>\n",
              "<table border=\"1\" class=\"dataframe\">\n",
              "  <thead>\n",
              "    <tr style=\"text-align: right;\">\n",
              "      <th></th>\n",
              "      <th>Px_h</th>\n",
              "      <th>Px_w</th>\n",
              "      <th>Scr_h</th>\n",
              "      <th>Scr_w</th>\n",
              "      <th>PC</th>\n",
              "      <th>FC</th>\n",
              "      <th>Int_Mem</th>\n",
              "      <th>Bty_Pwr</th>\n",
              "      <th>RAM</th>\n",
              "      <th>Depth</th>\n",
              "      <th>Weight</th>\n",
              "      <th>Price</th>\n",
              "    </tr>\n",
              "  </thead>\n",
              "  <tbody>\n",
              "    <tr>\n",
              "      <th>count</th>\n",
              "      <td>50.000000</td>\n",
              "      <td>50.000000</td>\n",
              "      <td>50.000000</td>\n",
              "      <td>50.000000</td>\n",
              "      <td>50.000000</td>\n",
              "      <td>50.000000</td>\n",
              "      <td>50.000000</td>\n",
              "      <td>50.000000</td>\n",
              "      <td>50.000000</td>\n",
              "      <td>50.000000</td>\n",
              "      <td>50.000000</td>\n",
              "      <td>50.000000</td>\n",
              "    </tr>\n",
              "    <tr>\n",
              "      <th>mean</th>\n",
              "      <td>2319.400000</td>\n",
              "      <td>1833.200000</td>\n",
              "      <td>6.500000</td>\n",
              "      <td>4.620000</td>\n",
              "      <td>42.160000</td>\n",
              "      <td>20.760000</td>\n",
              "      <td>173.760000</td>\n",
              "      <td>3740.000000</td>\n",
              "      <td>5.760000</td>\n",
              "      <td>3.440000</td>\n",
              "      <td>195.200000</td>\n",
              "      <td>33794.860000</td>\n",
              "    </tr>\n",
              "    <tr>\n",
              "      <th>std</th>\n",
              "      <td>598.400623</td>\n",
              "      <td>469.713069</td>\n",
              "      <td>2.042907</td>\n",
              "      <td>1.883223</td>\n",
              "      <td>30.174567</td>\n",
              "      <td>14.784934</td>\n",
              "      <td>261.771871</td>\n",
              "      <td>958.817299</td>\n",
              "      <td>2.759473</td>\n",
              "      <td>1.052887</td>\n",
              "      <td>75.761171</td>\n",
              "      <td>25037.535393</td>\n",
              "    </tr>\n",
              "    <tr>\n",
              "      <th>min</th>\n",
              "      <td>780.000000</td>\n",
              "      <td>460.000000</td>\n",
              "      <td>2.000000</td>\n",
              "      <td>1.000000</td>\n",
              "      <td>2.000000</td>\n",
              "      <td>2.000000</td>\n",
              "      <td>8.000000</td>\n",
              "      <td>2300.000000</td>\n",
              "      <td>2.000000</td>\n",
              "      <td>2.000000</td>\n",
              "      <td>80.000000</td>\n",
              "      <td>3297.000000</td>\n",
              "    </tr>\n",
              "    <tr>\n",
              "      <th>25%</th>\n",
              "      <td>2080.000000</td>\n",
              "      <td>1775.000000</td>\n",
              "      <td>5.000000</td>\n",
              "      <td>3.000000</td>\n",
              "      <td>12.000000</td>\n",
              "      <td>8.000000</td>\n",
              "      <td>32.000000</td>\n",
              "      <td>2800.000000</td>\n",
              "      <td>4.000000</td>\n",
              "      <td>3.000000</td>\n",
              "      <td>142.500000</td>\n",
              "      <td>19126.500000</td>\n",
              "    </tr>\n",
              "    <tr>\n",
              "      <th>50%</th>\n",
              "      <td>2580.000000</td>\n",
              "      <td>1980.000000</td>\n",
              "      <td>6.000000</td>\n",
              "      <td>5.000000</td>\n",
              "      <td>40.000000</td>\n",
              "      <td>16.000000</td>\n",
              "      <td>64.000000</td>\n",
              "      <td>3300.000000</td>\n",
              "      <td>5.000000</td>\n",
              "      <td>3.000000</td>\n",
              "      <td>190.000000</td>\n",
              "      <td>29349.500000</td>\n",
              "    </tr>\n",
              "    <tr>\n",
              "      <th>75%</th>\n",
              "      <td>2580.000000</td>\n",
              "      <td>2120.000000</td>\n",
              "      <td>8.000000</td>\n",
              "      <td>6.000000</td>\n",
              "      <td>64.000000</td>\n",
              "      <td>32.000000</td>\n",
              "      <td>128.000000</td>\n",
              "      <td>4500.000000</td>\n",
              "      <td>8.000000</td>\n",
              "      <td>4.000000</td>\n",
              "      <td>247.500000</td>\n",
              "      <td>43560.000000</td>\n",
              "    </tr>\n",
              "    <tr>\n",
              "      <th>max</th>\n",
              "      <td>2880.000000</td>\n",
              "      <td>2520.000000</td>\n",
              "      <td>10.000000</td>\n",
              "      <td>8.000000</td>\n",
              "      <td>128.000000</td>\n",
              "      <td>64.000000</td>\n",
              "      <td>1024.000000</td>\n",
              "      <td>5600.000000</td>\n",
              "      <td>12.000000</td>\n",
              "      <td>7.000000</td>\n",
              "      <td>400.000000</td>\n",
              "      <td>149000.000000</td>\n",
              "    </tr>\n",
              "  </tbody>\n",
              "</table>\n",
              "</div>"
            ],
            "text/plain": [
              "              Px_h         Px_w      Scr_h      Scr_w          PC         FC  \\\n",
              "count    50.000000    50.000000  50.000000  50.000000   50.000000  50.000000   \n",
              "mean   2319.400000  1833.200000   6.500000   4.620000   42.160000  20.760000   \n",
              "std     598.400623   469.713069   2.042907   1.883223   30.174567  14.784934   \n",
              "min     780.000000   460.000000   2.000000   1.000000    2.000000   2.000000   \n",
              "25%    2080.000000  1775.000000   5.000000   3.000000   12.000000   8.000000   \n",
              "50%    2580.000000  1980.000000   6.000000   5.000000   40.000000  16.000000   \n",
              "75%    2580.000000  2120.000000   8.000000   6.000000   64.000000  32.000000   \n",
              "max    2880.000000  2520.000000  10.000000   8.000000  128.000000  64.000000   \n",
              "\n",
              "           Int_Mem      Bty_Pwr        RAM      Depth      Weight  \\\n",
              "count    50.000000    50.000000  50.000000  50.000000   50.000000   \n",
              "mean    173.760000  3740.000000   5.760000   3.440000  195.200000   \n",
              "std     261.771871   958.817299   2.759473   1.052887   75.761171   \n",
              "min       8.000000  2300.000000   2.000000   2.000000   80.000000   \n",
              "25%      32.000000  2800.000000   4.000000   3.000000  142.500000   \n",
              "50%      64.000000  3300.000000   5.000000   3.000000  190.000000   \n",
              "75%     128.000000  4500.000000   8.000000   4.000000  247.500000   \n",
              "max    1024.000000  5600.000000  12.000000   7.000000  400.000000   \n",
              "\n",
              "               Price  \n",
              "count      50.000000  \n",
              "mean    33794.860000  \n",
              "std     25037.535393  \n",
              "min      3297.000000  \n",
              "25%     19126.500000  \n",
              "50%     29349.500000  \n",
              "75%     43560.000000  \n",
              "max    149000.000000  "
            ]
          },
          "execution_count": 3,
          "metadata": {},
          "output_type": "execute_result"
        }
      ],
      "source": [
        "# Take a brief look at the data\n",
        "data.describe()"
      ]
    },
    {
      "cell_type": "code",
      "execution_count": 4,
      "metadata": {},
      "outputs": [
        {
          "data": {
            "text/html": [
              "<div>\n",
              "<style scoped>\n",
              "    .dataframe tbody tr th:only-of-type {\n",
              "        vertical-align: middle;\n",
              "    }\n",
              "\n",
              "    .dataframe tbody tr th {\n",
              "        vertical-align: top;\n",
              "    }\n",
              "\n",
              "    .dataframe thead th {\n",
              "        text-align: right;\n",
              "    }\n",
              "</style>\n",
              "<table border=\"1\" class=\"dataframe\">\n",
              "  <thead>\n",
              "    <tr style=\"text-align: right;\">\n",
              "      <th></th>\n",
              "      <th>PID</th>\n",
              "      <th>Blue</th>\n",
              "      <th>Wi_Fi</th>\n",
              "      <th>Tch_Scr</th>\n",
              "      <th>Ext_Mem</th>\n",
              "      <th>Px_h</th>\n",
              "      <th>Px_w</th>\n",
              "      <th>Scr_h</th>\n",
              "      <th>Scr_w</th>\n",
              "      <th>PC</th>\n",
              "      <th>FC</th>\n",
              "      <th>Int_Mem</th>\n",
              "      <th>Bty_Pwr</th>\n",
              "      <th>RAM</th>\n",
              "      <th>Depth</th>\n",
              "      <th>Weight</th>\n",
              "      <th>Price</th>\n",
              "    </tr>\n",
              "  </thead>\n",
              "  <tbody>\n",
              "    <tr>\n",
              "      <th>0</th>\n",
              "      <td>AAB346A</td>\n",
              "      <td>yes</td>\n",
              "      <td>yes</td>\n",
              "      <td>no</td>\n",
              "      <td>no</td>\n",
              "      <td>780</td>\n",
              "      <td>460</td>\n",
              "      <td>3</td>\n",
              "      <td>1</td>\n",
              "      <td>2</td>\n",
              "      <td>2</td>\n",
              "      <td>8</td>\n",
              "      <td>2800</td>\n",
              "      <td>2</td>\n",
              "      <td>7</td>\n",
              "      <td>320</td>\n",
              "      <td>3297</td>\n",
              "    </tr>\n",
              "    <tr>\n",
              "      <th>1</th>\n",
              "      <td>AAC347I</td>\n",
              "      <td>yes</td>\n",
              "      <td>yes</td>\n",
              "      <td>no</td>\n",
              "      <td>no</td>\n",
              "      <td>780</td>\n",
              "      <td>560</td>\n",
              "      <td>2</td>\n",
              "      <td>1</td>\n",
              "      <td>4</td>\n",
              "      <td>2</td>\n",
              "      <td>8</td>\n",
              "      <td>3000</td>\n",
              "      <td>2</td>\n",
              "      <td>7</td>\n",
              "      <td>280</td>\n",
              "      <td>4500</td>\n",
              "    </tr>\n",
              "    <tr>\n",
              "      <th>2</th>\n",
              "      <td>BAB657J</td>\n",
              "      <td>no</td>\n",
              "      <td>yes</td>\n",
              "      <td>no</td>\n",
              "      <td>no</td>\n",
              "      <td>840</td>\n",
              "      <td>720</td>\n",
              "      <td>2</td>\n",
              "      <td>1</td>\n",
              "      <td>4</td>\n",
              "      <td>2</td>\n",
              "      <td>8</td>\n",
              "      <td>3300</td>\n",
              "      <td>2</td>\n",
              "      <td>7</td>\n",
              "      <td>400</td>\n",
              "      <td>4898</td>\n",
              "    </tr>\n",
              "    <tr>\n",
              "      <th>3</th>\n",
              "      <td>BBD456K</td>\n",
              "      <td>no</td>\n",
              "      <td>yes</td>\n",
              "      <td>yes</td>\n",
              "      <td>no</td>\n",
              "      <td>1280</td>\n",
              "      <td>1120</td>\n",
              "      <td>5</td>\n",
              "      <td>3</td>\n",
              "      <td>6</td>\n",
              "      <td>2</td>\n",
              "      <td>32</td>\n",
              "      <td>3000</td>\n",
              "      <td>2</td>\n",
              "      <td>3</td>\n",
              "      <td>300</td>\n",
              "      <td>6900</td>\n",
              "    </tr>\n",
              "    <tr>\n",
              "      <th>4</th>\n",
              "      <td>CCP761U</td>\n",
              "      <td>no</td>\n",
              "      <td>yes</td>\n",
              "      <td>yes</td>\n",
              "      <td>no</td>\n",
              "      <td>1280</td>\n",
              "      <td>1080</td>\n",
              "      <td>4</td>\n",
              "      <td>3</td>\n",
              "      <td>6</td>\n",
              "      <td>2</td>\n",
              "      <td>16</td>\n",
              "      <td>3000</td>\n",
              "      <td>2</td>\n",
              "      <td>3</td>\n",
              "      <td>210</td>\n",
              "      <td>5600</td>\n",
              "    </tr>\n",
              "  </tbody>\n",
              "</table>\n",
              "</div>"
            ],
            "text/plain": [
              "       PID Blue Wi_Fi Tch_Scr Ext_Mem  Px_h  Px_w  Scr_h  Scr_w  PC  FC  \\\n",
              "0  AAB346A  yes   yes      no      no   780   460      3      1   2   2   \n",
              "1  AAC347I  yes   yes      no      no   780   560      2      1   4   2   \n",
              "2  BAB657J   no   yes      no      no   840   720      2      1   4   2   \n",
              "3  BBD456K   no   yes     yes      no  1280  1120      5      3   6   2   \n",
              "4  CCP761U   no   yes     yes      no  1280  1080      4      3   6   2   \n",
              "\n",
              "   Int_Mem  Bty_Pwr  RAM  Depth  Weight  Price  \n",
              "0        8     2800    2      7     320   3297  \n",
              "1        8     3000    2      7     280   4500  \n",
              "2        8     3300    2      7     400   4898  \n",
              "3       32     3000    2      3     300   6900  \n",
              "4       16     3000    2      3     210   5600  "
            ]
          },
          "execution_count": 4,
          "metadata": {},
          "output_type": "execute_result"
        }
      ],
      "source": [
        "data.head()"
      ]
    },
    {
      "cell_type": "code",
      "execution_count": 5,
      "metadata": {},
      "outputs": [
        {
          "data": {
            "text/plain": [
              "PID        0\n",
              "Blue       0\n",
              "Wi_Fi      0\n",
              "Tch_Scr    0\n",
              "Ext_Mem    0\n",
              "Px_h       0\n",
              "Px_w       0\n",
              "Scr_h      0\n",
              "Scr_w      0\n",
              "PC         0\n",
              "FC         0\n",
              "Int_Mem    0\n",
              "Bty_Pwr    0\n",
              "RAM        0\n",
              "Depth      0\n",
              "Weight     0\n",
              "Price      0\n",
              "dtype: int64"
            ]
          },
          "execution_count": 5,
          "metadata": {},
          "output_type": "execute_result"
        }
      ],
      "source": [
        "data.isna().sum()"
      ]
    },
    {
      "cell_type": "code",
      "execution_count": 6,
      "metadata": {
        "id": "0jdoVTnIN85_"
      },
      "outputs": [
        {
          "data": {
            "text/plain": [
              "(50, 17)"
            ]
          },
          "execution_count": 6,
          "metadata": {},
          "output_type": "execute_result"
        }
      ],
      "source": [
        "# Get the dimensions of the dataframe\n",
        "\n",
        "data.shape"
      ]
    },
    {
      "cell_type": "code",
      "execution_count": 7,
      "metadata": {
        "id": "y28qZAzdN86B"
      },
      "outputs": [
        {
          "data": {
            "text/plain": [
              "[0,\n",
              " 1,\n",
              " 2,\n",
              " 3,\n",
              " 4,\n",
              " 5,\n",
              " 6,\n",
              " 7,\n",
              " 8,\n",
              " 9,\n",
              " 10,\n",
              " 11,\n",
              " 12,\n",
              " 13,\n",
              " 14,\n",
              " 15,\n",
              " 16,\n",
              " 17,\n",
              " 18,\n",
              " 19,\n",
              " 20,\n",
              " 21,\n",
              " 22,\n",
              " 23,\n",
              " 24,\n",
              " 25,\n",
              " 26,\n",
              " 27,\n",
              " 28,\n",
              " 29,\n",
              " 30,\n",
              " 31,\n",
              " 32,\n",
              " 33,\n",
              " 34,\n",
              " 35,\n",
              " 36,\n",
              " 37,\n",
              " 38,\n",
              " 39,\n",
              " 40,\n",
              " 41,\n",
              " 42,\n",
              " 43,\n",
              " 44,\n",
              " 45,\n",
              " 46,\n",
              " 47,\n",
              " 48,\n",
              " 49]"
            ]
          },
          "execution_count": 7,
          "metadata": {},
          "output_type": "execute_result"
        }
      ],
      "source": [
        "# Get the row names of the dataframe\n",
        "\n",
        "data.index.to_list()"
      ]
    },
    {
      "cell_type": "code",
      "execution_count": 8,
      "metadata": {
        "id": "u3wUbIm7N86C"
      },
      "outputs": [
        {
          "data": {
            "text/plain": [
              "Index(['PID', 'Blue', 'Wi_Fi', 'Tch_Scr', 'Ext_Mem', 'Px_h', 'Px_w', 'Scr_h',\n",
              "       'Scr_w', 'PC', 'FC', 'Int_Mem', 'Bty_Pwr', 'RAM', 'Depth', 'Weight',\n",
              "       'Price'],\n",
              "      dtype='object')"
            ]
          },
          "execution_count": 8,
          "metadata": {},
          "output_type": "execute_result"
        }
      ],
      "source": [
        "# Get the column names of the dataframe\n",
        "\n",
        "data.columns"
      ]
    },
    {
      "cell_type": "code",
      "execution_count": 9,
      "metadata": {
        "id": "zoJdOWbKN86D"
      },
      "outputs": [
        {
          "name": "stdout",
          "output_type": "stream",
          "text": [
            "<class 'pandas.core.frame.DataFrame'>\n",
            "RangeIndex: 50 entries, 0 to 49\n",
            "Data columns (total 17 columns):\n",
            " #   Column   Non-Null Count  Dtype \n",
            "---  ------   --------------  ----- \n",
            " 0   PID      50 non-null     object\n",
            " 1   Blue     50 non-null     object\n",
            " 2   Wi_Fi    50 non-null     object\n",
            " 3   Tch_Scr  50 non-null     object\n",
            " 4   Ext_Mem  50 non-null     object\n",
            " 5   Px_h     50 non-null     int64 \n",
            " 6   Px_w     50 non-null     int64 \n",
            " 7   Scr_h    50 non-null     int64 \n",
            " 8   Scr_w    50 non-null     int64 \n",
            " 9   PC       50 non-null     int64 \n",
            " 10  FC       50 non-null     int64 \n",
            " 11  Int_Mem  50 non-null     int64 \n",
            " 12  Bty_Pwr  50 non-null     int64 \n",
            " 13  RAM      50 non-null     int64 \n",
            " 14  Depth    50 non-null     int64 \n",
            " 15  Weight   50 non-null     int64 \n",
            " 16  Price    50 non-null     int64 \n",
            "dtypes: int64(12), object(5)\n",
            "memory usage: 6.8+ KB\n"
          ]
        }
      ],
      "source": [
        "# Look at basic information about the dataframe\n",
        "\n",
        "data.info()"
      ]
    },
    {
      "cell_type": "markdown",
      "metadata": {
        "id": "Yp1sfFKKQQLR"
      },
      "source": [
        "Observations:\n",
        "\n",
        "There are 50 phones in the data set.\n",
        "\n",
        "There are 17 features in the data set including the \"PID\" feature which is used as the row index labels.\n",
        "\n",
        "There are no missing values in the data set."
      ]
    },
    {
      "cell_type": "code",
      "execution_count": null,
      "metadata": {
        "id": "F7O4y4kyN86F"
      },
      "outputs": [],
      "source": []
    },
    {
      "cell_type": "markdown",
      "metadata": {
        "id": "K6wSkK61E57v"
      },
      "source": [
        "<center>Let's try some logical operators to filter the data.<center>"
      ]
    },
    {
      "cell_type": "markdown",
      "metadata": {
        "id": "Fjx3ajuFFN5H"
      },
      "source": [
        "![](https://th.bing.com/th/id/R.0592084daa6518e4fae97f47217ec69e?rik=vNqmiaTVSSo54w&riu=http%3a%2f%2f2.bp.blogspot.com%2f-ujABms6N-Cg%2fTyYwShdTjnI%2fAAAAAAAAAAs%2fktPbHdifidc%2fs1600%2fLogical%2bOperators.PNG&ehk=ww1gl1HB2PcZwPQNHWRUvcQ631Q3mzyHSxL9G4zUKT4%3d&risl=&pid=ImgRaw&r=0,width=700,height=400)"
      ]
    },
    {
      "cell_type": "markdown",
      "metadata": {
        "id": "zBarC8WVQZG7"
      },
      "source": [
        "## Task 2 - Obtain the logical conditions for the features \"Blue\", \"Wi_Fi\", \"Tch_Scr\" and \"Ext_Mem\""
      ]
    },
    {
      "cell_type": "code",
      "execution_count": 10,
      "metadata": {
        "id": "RAV76P19N86G"
      },
      "outputs": [
        {
          "data": {
            "text/plain": [
              "Index(['PID', 'Blue', 'Wi_Fi', 'Tch_Scr', 'Ext_Mem', 'Px_h', 'Px_w', 'Scr_h',\n",
              "       'Scr_w', 'PC', 'FC', 'Int_Mem', 'Bty_Pwr', 'RAM', 'Depth', 'Weight',\n",
              "       'Price'],\n",
              "      dtype='object')"
            ]
          },
          "execution_count": 10,
          "metadata": {},
          "output_type": "execute_result"
        }
      ],
      "source": [
        "# Get the feature names of the dataframe\n",
        "\n",
        "data.columns"
      ]
    },
    {
      "cell_type": "code",
      "execution_count": 11,
      "metadata": {
        "id": "4qnHqu_vN86H"
      },
      "outputs": [],
      "source": [
        "# Let's tackle these features: \"Blue\", \"Wi_Fi\", \"Tch_Scr\", \"Ext_Mem\""
      ]
    },
    {
      "cell_type": "code",
      "execution_count": 12,
      "metadata": {
        "id": "8N-jff5hN86I"
      },
      "outputs": [
        {
          "data": {
            "text/plain": [
              "0    False\n",
              "1    False\n",
              "2    False\n",
              "3    False\n",
              "4    False\n",
              "dtype: bool"
            ]
          },
          "execution_count": 12,
          "metadata": {},
          "output_type": "execute_result"
        }
      ],
      "source": [
        "# The children want phones that have the following: Bluetooth, WiFi, touch screen and external memory support\n",
        "# Create a logical condition for this situation and store the logical values as \"con1\"\n",
        "\n",
        "#con1 = data.loc[(data[\"Blue\"] == 'yes') & (data[\"Wi_Fi\"] == 'yes') & (data[\"Tch_Scr\"] == 'yes') & (data[\"Ext_Mem\"] == 'yes')]\n",
        "con1 = (data[\"Blue\"] == 'yes') & (data[\"Wi_Fi\"] == 'yes') & (data[\"Tch_Scr\"] == 'yes') & (data[\"Ext_Mem\"] == 'yes')\n",
        "con1.head()"
      ]
    },
    {
      "cell_type": "markdown",
      "metadata": {
        "id": "KilesitnQjMF"
      },
      "source": [
        "Observations:\n",
        "\n",
        "The features \"Blue\", \"Wi_Fi\", \"Tch_Scr\" and \"Ext_Mem\" are binary in nature.\n",
        "\n",
        "The children want all these features, so the logical condition \"con1\" has been obtained accordingly."
      ]
    },
    {
      "cell_type": "markdown",
      "metadata": {},
      "source": []
    },
    {
      "cell_type": "markdown",
      "metadata": {
        "id": "n8qZScOZQsj3"
      },
      "source": [
        "## Task 3 - Obtain the logical conditions for the features \"Px_h\" and \"Px_w\""
      ]
    },
    {
      "cell_type": "code",
      "execution_count": 14,
      "metadata": {
        "id": "UgpsX9ZYN86M"
      },
      "outputs": [
        {
          "data": {
            "text/plain": [
              "Index(['PID', 'Blue', 'Wi_Fi', 'Tch_Scr', 'Ext_Mem', 'Px_h', 'Px_w', 'Scr_h',\n",
              "       'Scr_w', 'PC', 'FC', 'Int_Mem', 'Bty_Pwr', 'RAM', 'Depth', 'Weight',\n",
              "       'Price'],\n",
              "      dtype='object')"
            ]
          },
          "execution_count": 14,
          "metadata": {},
          "output_type": "execute_result"
        }
      ],
      "source": [
        "# Get the feature names of the dataframe\n",
        "\n",
        "data.columns"
      ]
    },
    {
      "cell_type": "code",
      "execution_count": null,
      "metadata": {
        "id": "HvY0q-JeN86N"
      },
      "outputs": [],
      "source": [
        "# Let's tackle these features: \"Px_h\", \"Px_w\""
      ]
    },
    {
      "cell_type": "code",
      "execution_count": 15,
      "metadata": {
        "id": "9g8VvPLiN86O"
      },
      "outputs": [],
      "source": [
        "# Create a new feature called \"Px\" which stores the total resolution of the screen\n",
        "\n",
        "data['Px'] = data['Px_h']*data['Px_w']"
      ]
    },
    {
      "cell_type": "code",
      "execution_count": 16,
      "metadata": {
        "id": "nbYsIHpjN86P"
      },
      "outputs": [
        {
          "data": {
            "image/png": "[encoded data removed]",
            "text/plain": [
              "<Figure size 432x288 with 1 Axes>"
            ]
          },
          "metadata": {
            "needs_background": "light"
          },
          "output_type": "display_data"
        },
        {
          "name": "stdout",
          "output_type": "stream",
          "text": [
            "Mean : 4517184.0\n",
            "Median : 5108400.0\n"
          ]
        }
      ],
      "source": [
        "# Create a histogram of the \"Px\" feature and also show the mean and the median\n",
        "\n",
        "plt.hist(data['Px'], bins=10, edgecolor='black')\n",
        "\n",
        "mean = np.mean(data['Px'])\n",
        "median = np.median(data['Px'])\n",
        "\n",
        "# Add mean and median to the plot\n",
        "plt.axvline(mean, color='r', linestyle='dashed', linewidth=1, label='Mean')\n",
        "plt.axvline(median, color='y', linestyle='dashed', linewidth=1, label='Median')\n",
        "plt.legend()\n",
        "\n",
        "plt.show()\n",
        "\n",
        "print('Mean :', mean)\n",
        "print('Median :', median)"
      ]
    },
    {
      "cell_type": "code",
      "execution_count": 17,
      "metadata": {
        "id": "SxaYgagyN86Q"
      },
      "outputs": [],
      "source": [
        "# The children want phones that have good screen resolutions\n",
        "# Consider the phones that have screen resolutions greater than or equal to the median value in the data set\n",
        "# Create a logical condition for this situation and store the logical values as \"con2\"\n",
        "\n",
        "\n",
        "#con2 = data[data['Px']>= median]\n",
        "con2 = data['Px']>= median\n"
      ]
    },
    {
      "cell_type": "code",
      "execution_count": 18,
      "metadata": {},
      "outputs": [
        {
          "data": {
            "text/plain": [
              "50"
            ]
          },
          "execution_count": 18,
          "metadata": {},
          "output_type": "execute_result"
        }
      ],
      "source": [
        "len(con2)"
      ]
    },
    {
      "cell_type": "markdown",
      "metadata": {
        "id": "M-DC9VY2RBZQ"
      },
      "source": [
        "Observations:\n",
        "\n",
        "The features \"Px_h\" and \"Px_w\" are respectively the number of pixels in the phone screen in the vertical and horizontal axes.\n",
        "\n",
        "We created a new feature called \"Px\" which is the product of the features \"Px_h\" and \"Px_w\".\n",
        "\n",
        "The median has been selected as a threshold in this case.\n",
        "\n",
        "In case it is too strict, we can choose the mean as a threshold."
      ]
    },
    {
      "cell_type": "markdown",
      "metadata": {
        "id": "ih3ev8-0RJg5"
      },
      "source": [
        "# Task 4 - Obtain the logical conditions for the features \"Scr_h\" and \"Scr_w\""
      ]
    },
    {
      "cell_type": "code",
      "execution_count": 19,
      "metadata": {
        "id": "EsEcEKKTN86T"
      },
      "outputs": [],
      "source": [
        "# Let's tackle these features: \"Scr_h\", \"Scr_w\""
      ]
    },
    {
      "cell_type": "code",
      "execution_count": 20,
      "metadata": {
        "id": "qTOcx3FCN86U"
      },
      "outputs": [],
      "source": [
        "# Create a new feature called \"Scr_d\" which stores the length of the diagonal of the screen of the phone\n",
        "\n",
        "data['Scr_d'] = np.sqrt(data['Scr_h']**2 + data['Scr_w']**2)\n"
      ]
    },
    {
      "cell_type": "code",
      "execution_count": 21,
      "metadata": {
        "id": "83gzdEN7N86U"
      },
      "outputs": [
        {
          "data": {
            "image/png": "[encoded data removed]",
            "text/plain": [
              "<Figure size 432x288 with 1 Axes>"
            ]
          },
          "metadata": {
            "needs_background": "light"
          },
          "output_type": "display_data"
        },
        {
          "name": "stdout",
          "output_type": "stream",
          "text": [
            "Quartiles:\n",
            "25th Percentile (Q1): 5.830951894845301\n",
            "50th Percentile (Median): 7.810249675906654\n",
            "75th Percentile (Q3): 10.0\n"
          ]
        }
      ],
      "source": [
        "# Create a histogram of the \"Scr_d\" feature and also show the quartiles\n",
        "\n",
        "plt.hist(data['Scr_d'], bins=10, edgecolor='black')\n",
        "\n",
        "quartiles = np.percentile(data['Scr_d'], [25, 50, 75])\n",
        "\n",
        "for quartile in quartiles:\n",
        "    plt.axvline(quartile, color='r', linestyle='dashed', linewidth=1, label='Quartile')\n",
        "\n",
        "plt.legend()\n",
        "plt.show()\n",
        "\n",
        "print('Quartiles:')\n",
        "print('25th Percentile (Q1):', quartiles[0])\n",
        "print('50th Percentile (Median):', quartiles[1])\n",
        "print('75th Percentile (Q3):', quartiles[2])"
      ]
    },
    {
      "cell_type": "code",
      "execution_count": 22,
      "metadata": {
        "id": "aEvL_TPSN86V"
      },
      "outputs": [],
      "source": [
        "# The children want phones that have very good screen sizes\n",
        "# Consider the phones that have screen sizes greater than or equal to the upper quartile value in the data set\n",
        "# Create a logical condition for this situation and store the logical values as \"con3\"\n",
        "\n",
        "#con3 = data[data['Scr_d']>=max(quartiles)]\n",
        "con3 = data['Scr_d']>=max(quartiles)\n",
        "\n"
      ]
    },
    {
      "cell_type": "markdown",
      "metadata": {
        "id": "BKDitmp9RZDe"
      },
      "source": [
        "Observations:\n",
        "\n",
        "The features \"Scr_h\" and \"Scr_w\" are respectively the height and the width of the phone screen.\n",
        "\n",
        "We created a new feature called \"Scr_d\" which is essentially the length of the screen diagonal.\n",
        "\n",
        "The upper quartile has been selected as a threshold in this case as the children were very particular on this point.\n",
        "\n",
        "In case it is too strict, we can choose the mean or the median as a threshold."
      ]
    },
    {
      "cell_type": "markdown",
      "metadata": {
        "id": "21dZEsZRRikD"
      },
      "source": [
        "# Task 5 - Obtain the logical conditions for the features \"PC\" and \"FC\""
      ]
    },
    {
      "cell_type": "code",
      "execution_count": 23,
      "metadata": {
        "id": "lCQR8DBRN86Y"
      },
      "outputs": [],
      "source": [
        "# Let's tackle these features: \"PC\", \"FC\""
      ]
    },
    {
      "cell_type": "code",
      "execution_count": 24,
      "metadata": {
        "id": "KtH-XWmqN86Z"
      },
      "outputs": [
        {
          "data": {
            "image/png": "[encoded data removed]",
            "text/plain": [
              "<Figure size 432x288 with 1 Axes>"
            ]
          },
          "metadata": {
            "needs_background": "light"
          },
          "output_type": "display_data"
        },
        {
          "name": "stdout",
          "output_type": "stream",
          "text": [
            "Mean : 42.16\n",
            "Median : 40.0\n"
          ]
        }
      ],
      "source": [
        "# Create a histogram of the \"PC\" feature and also show the mean and the median\n",
        "\n",
        "plt.hist(data['PC'], bins=10, edgecolor='black')\n",
        "\n",
        "PC_mean = np.mean(data['PC'])\n",
        "PC_median = np.median(data['PC'])\n",
        "\n",
        "# Add mean and median to the plot\n",
        "plt.axvline(PC_mean, color='r', linestyle='dashed', linewidth=1, label='Mean')\n",
        "plt.axvline(PC_median, color='y', linestyle='dashed', linewidth=1, label='Median')\n",
        "plt.legend()\n",
        "\n",
        "plt.show()\n",
        "\n",
        "print('Mean :', PC_mean)\n",
        "print('Median :', PC_median)\n"
      ]
    },
    {
      "cell_type": "code",
      "execution_count": 25,
      "metadata": {
        "id": "vMp3OWR0N86a"
      },
      "outputs": [
        {
          "data": {
            "image/png": "[encoded data removed]",
            "text/plain": [
              "<Figure size 432x288 with 1 Axes>"
            ]
          },
          "metadata": {
            "needs_background": "light"
          },
          "output_type": "display_data"
        },
        {
          "name": "stdout",
          "output_type": "stream",
          "text": [
            "Mean : 20.76\n",
            "Median : 16.0\n"
          ]
        }
      ],
      "source": [
        "# Create a histogram of the \"FC\" feature and also show the mean and the median\n",
        "\n",
        "plt.hist(data['FC'], bins=10, edgecolor='black')\n",
        "\n",
        "FC_mean = np.mean(data['FC'])\n",
        "FC_median = np.median(data['FC'])\n",
        "\n",
        "# Add mean and median to the plot\n",
        "plt.axvline(FC_mean, color='r', linestyle='dashed', linewidth=1, label='Mean')\n",
        "plt.axvline(FC_median, color='y', linestyle='dashed', linewidth=1, label='Median')\n",
        "plt.legend()\n",
        "\n",
        "plt.show()\n",
        "\n",
        "print('Mean :', FC_mean)\n",
        "print('Median :', FC_median)\n"
      ]
    },
    {
      "cell_type": "code",
      "execution_count": 26,
      "metadata": {
        "id": "uwOY8IGoN86a"
      },
      "outputs": [],
      "source": [
        "# The children want phones that have good primary and front camera resolutions\n",
        "# Consider the phones that have primary and front camera resolutions greater than or equal to their respective mean values\n",
        "# Create a logical condition for this situation and store the logical values as \"con4\"\n",
        "\n",
        "#con4 = data[(data['PC']>=PC_mean) & (data['FC']>=FC_mean)]\n",
        "con4 = (data['PC']>=PC_mean) & (data['FC']>=FC_mean)\n",
        "\n"
      ]
    },
    {
      "cell_type": "markdown",
      "metadata": {
        "id": "jo7yqfJSRvNT"
      },
      "source": [
        "Observations:\n",
        "\n",
        "The features \"PC\" and \"FC\" are respectively the resolutions of the primary camera and the front camera.\n",
        "\n",
        "The respective means have been selected as thresholds in this case.\n",
        "\n",
        "In case it is too strict, we can choose the respective medians as thresholds."
      ]
    },
    {
      "cell_type": "markdown",
      "metadata": {
        "id": "iu0E_MTAR3Pn"
      },
      "source": [
        "# Task 6 - Obtain the logical conditions for the features \"Int_Mem\", \"Bty_Pwr\" and \"RAM\""
      ]
    },
    {
      "cell_type": "code",
      "execution_count": 27,
      "metadata": {
        "id": "tnBJk7xFN86d"
      },
      "outputs": [],
      "source": [
        "# Let's tackle these features: \"Int_Mem\", \"Bty_Pwr\", \"RAM\""
      ]
    },
    {
      "cell_type": "code",
      "execution_count": 28,
      "metadata": {
        "id": "YMBT6fVEN86e"
      },
      "outputs": [
        {
          "data": {
            "image/png": "[encoded data removed]",
            "text/plain": [
              "<Figure size 432x288 with 1 Axes>"
            ]
          },
          "metadata": {
            "needs_background": "light"
          },
          "output_type": "display_data"
        },
        {
          "name": "stdout",
          "output_type": "stream",
          "text": [
            "Mean : 173.76\n",
            "Median : 64.0\n"
          ]
        }
      ],
      "source": [
        "# Create a histogram of the \"Int_Mem\" feature and also show the mean and the median\n",
        "\n",
        "plt.hist(data['Int_Mem'], bins=10, edgecolor='black')\n",
        "\n",
        "Int_Mem_mean = np.mean(data['Int_Mem'])\n",
        "Int_Mem_median = np.median(data['Int_Mem'])\n",
        "\n",
        "# Add mean and median to the plot\n",
        "plt.axvline(Int_Mem_mean, color='r', linestyle='dashed', linewidth=1, label='Mean')\n",
        "plt.axvline(Int_Mem_median, color='y', linestyle='dashed', linewidth=1, label='Median')\n",
        "plt.legend()\n",
        "\n",
        "plt.show()\n",
        "\n",
        "print('Mean :', Int_Mem_mean)\n",
        "print('Median :', Int_Mem_median)\n"
      ]
    },
    {
      "cell_type": "code",
      "execution_count": 29,
      "metadata": {
        "id": "oPjFp16vN86e"
      },
      "outputs": [
        {
          "data": {
            "image/png": "[encoded data removed]",
            "text/plain": [
              "<Figure size 432x288 with 1 Axes>"
            ]
          },
          "metadata": {
            "needs_background": "light"
          },
          "output_type": "display_data"
        },
        {
          "name": "stdout",
          "output_type": "stream",
          "text": [
            "Mean : 3740.0\n",
            "Median : 3300.0\n"
          ]
        }
      ],
      "source": [
        "# Create a histogram of the \"Bty_Pwr\" feature and also show the mean and the median\n",
        "\n",
        "plt.hist(data['Bty_Pwr'], bins=10, edgecolor='black')\n",
        "\n",
        "Bty_Pwr_mean = np.mean(data['Bty_Pwr'])\n",
        "Bty_Pwr_median = np.median(data['Bty_Pwr'])\n",
        "\n",
        "# Add mean and median to the plot\n",
        "plt.axvline(Bty_Pwr_mean, color='r', linestyle='dashed', linewidth=1, label='Mean')\n",
        "plt.axvline(Bty_Pwr_median, color='y', linestyle='dashed', linewidth=1, label='Median')\n",
        "plt.legend()\n",
        "\n",
        "plt.show()\n",
        "\n",
        "print('Mean :', Bty_Pwr_mean)\n",
        "print('Median :', Bty_Pwr_median)\n"
      ]
    },
    {
      "cell_type": "code",
      "execution_count": 30,
      "metadata": {
        "id": "TS83YmlQN86f"
      },
      "outputs": [
        {
          "data": {
            "image/png": "[encoded data removed]",
            "text/plain": [
              "<Figure size 432x288 with 1 Axes>"
            ]
          },
          "metadata": {
            "needs_background": "light"
          },
          "output_type": "display_data"
        },
        {
          "name": "stdout",
          "output_type": "stream",
          "text": [
            "Mean : 5.76\n",
            "Median : 5.0\n"
          ]
        }
      ],
      "source": [
        "# Create a histogram of the \"RAM\" feature and also show the mean and the median\n",
        "\n",
        "plt.hist(data['RAM'], bins=10, edgecolor='black')\n",
        "\n",
        "RAM_mean = np.mean(data['RAM'])\n",
        "RAM_median = np.median(data['RAM'])\n",
        "\n",
        "# Add mean and median to the plot\n",
        "plt.axvline(RAM_mean, color='r', linestyle='dashed', linewidth=1, label='Mean')\n",
        "plt.axvline(RAM_median, color='y', linestyle='dashed', linewidth=1, label='Median')\n",
        "plt.legend()\n",
        "\n",
        "plt.show()\n",
        "\n",
        "print('Mean :', RAM_mean)\n",
        "print('Median :', RAM_median)\n",
        "\n"
      ]
    },
    {
      "cell_type": "code",
      "execution_count": 31,
      "metadata": {
        "id": "Ty-VGMoDN86g"
      },
      "outputs": [],
      "source": [
        "# The children want phones that have good internal memory, battery power and RAM\n",
        "# Consider the phones that have internal memory, battery power and RAM greater than or equal to their respective mean values\n",
        "# Create a logical condition for this situation and store the logical values as \"con5\"\n",
        "\n",
        "#con5 = data[(data['Int_Mem']>=Int_Mem_mean) & (data['Bty_Pwr']>=Bty_Pwr_mean) & (data['RAM']>=RAM_mean)]\n",
        "con5 = (data['Int_Mem']>=Int_Mem_mean) & (data['Bty_Pwr']>=Bty_Pwr_mean) & (data['RAM']>=RAM_mean)\n"
      ]
    },
    {
      "cell_type": "markdown",
      "metadata": {
        "id": "u5RzvXKoSHaw"
      },
      "source": [
        "Observations\n",
        "\n",
        "The features \"Int_Mem\", \"Bty_Pwr\" and \"RAM\" are respectively the internal memory, battery power and RAM of the phones.\n",
        "\n",
        "The respective means have been selected as thresholds in this case.\n",
        "\n",
        ".In case it is too strict, we can choose the respective medians as thresholds"
      ]
    },
    {
      "cell_type": "markdown",
      "metadata": {
        "id": "VVeYghyESO9y"
      },
      "source": [
        "# Task 7 - Obtain the logical conditions for the features \"Depth\" and \"Weight\""
      ]
    },
    {
      "cell_type": "code",
      "execution_count": 32,
      "metadata": {
        "id": "07nm7-V1N86j"
      },
      "outputs": [],
      "source": [
        "# Let's tackle these features: \"Depth\", \"Weight\""
      ]
    },
    {
      "cell_type": "code",
      "execution_count": 33,
      "metadata": {
        "id": "e88FFbusN86k"
      },
      "outputs": [
        {
          "data": {
            "image/png": "[encoded data removed]",
            "text/plain": [
              "<Figure size 432x288 with 1 Axes>"
            ]
          },
          "metadata": {
            "needs_background": "light"
          },
          "output_type": "display_data"
        },
        {
          "name": "stdout",
          "output_type": "stream",
          "text": [
            "Mean : 3.44\n",
            "Median : 3.0\n"
          ]
        }
      ],
      "source": [
        "# Create a histogram of the \"Depth\" feature and also show the mean and the median\n",
        "\n",
        "plt.hist(data['Depth'], bins=10, edgecolor='black')\n",
        "\n",
        "Depth_mean = np.mean(data['Depth'])\n",
        "Depth_median = np.median(data['Depth'])\n",
        "\n",
        "# Add mean and median to the plot\n",
        "plt.axvline(Depth_mean, color='r', linestyle='dashed', linewidth=1, label='Mean')\n",
        "plt.axvline(Depth_median, color='y', linestyle='dashed', linewidth=1, label='Median')\n",
        "plt.legend()\n",
        "\n",
        "plt.show()\n",
        "\n",
        "print('Mean :', Depth_mean)\n",
        "print('Median :', Depth_median)\n"
      ]
    },
    {
      "cell_type": "code",
      "execution_count": 34,
      "metadata": {
        "id": "-lXTqLttN86l"
      },
      "outputs": [
        {
          "data": {
            "image/png": "[encoded data removed]",
            "text/plain": [
              "<Figure size 432x288 with 1 Axes>"
            ]
          },
          "metadata": {
            "needs_background": "light"
          },
          "output_type": "display_data"
        },
        {
          "name": "stdout",
          "output_type": "stream",
          "text": [
            "Mean : 195.2\n",
            "Median : 190.0\n"
          ]
        }
      ],
      "source": [
        "# Create a histogram of the \"Weight\" feature and also show the mean and the median\n",
        "\n",
        "plt.hist(data['Weight'], bins=10, edgecolor='black')\n",
        "\n",
        "Weight_mean = np.mean(data['Weight'])\n",
        "Weight_median = np.median(data['Weight'])\n",
        "\n",
        "# Add mean and median to the plot\n",
        "plt.axvline(Weight_mean, color='r', linestyle='dashed', linewidth=1, label='Mean')\n",
        "plt.axvline(Weight_median, color='y', linestyle='dashed', linewidth=1, label='Median')\n",
        "plt.legend()\n",
        "\n",
        "plt.show()\n",
        "\n",
        "print('Mean :',Weight_mean)\n",
        "print('Median :', Weight_median)\n"
      ]
    },
    {
      "cell_type": "code",
      "execution_count": 35,
      "metadata": {
        "id": "7ZYJmwzJN86l"
      },
      "outputs": [],
      "source": [
        "# The children want phones that are light weight and slim\n",
        "# Consider the phones that have depth and weight less than or equal to the respective median values in the data set\n",
        "# Create a logical condition for this situation and store the logical values as \"con6\"\n",
        "\n",
        "#con6 = data[(data['Depth']<=Depth_mean) & (data['Weight']<=Weight_mean) ]\n",
        "con6 = (data['Depth']<=Depth_mean) & (data['Weight']<=Weight_mean)\n"
      ]
    },
    {
      "cell_type": "markdown",
      "metadata": {
        "id": "l32BIHsdSbHy"
      },
      "source": [
        "Observations:\n",
        "\n",
        "The features \"Depth\" and \"Weight\" are respectively the depth of the phone and the weight of the phone.\n",
        "\n",
        "The respective medians have been selected as thresholds in this case.\n",
        "\n",
        "In case it is too strict, we can choose the respective means as thresholds."
      ]
    },
    {
      "cell_type": "markdown",
      "metadata": {
        "id": "3UYMHQseSjZp"
      },
      "source": [
        "# Task 8 - Subset the data based on all the logical conditions"
      ]
    },
    {
      "cell_type": "code",
      "execution_count": 36,
      "metadata": {
        "id": "iKFweH2xN86o"
      },
      "outputs": [
        {
          "data": {
            "text/html": [
              "<div>\n",
              "<style scoped>\n",
              "    .dataframe tbody tr th:only-of-type {\n",
              "        vertical-align: middle;\n",
              "    }\n",
              "\n",
              "    .dataframe tbody tr th {\n",
              "        vertical-align: top;\n",
              "    }\n",
              "\n",
              "    .dataframe thead th {\n",
              "        text-align: right;\n",
              "    }\n",
              "</style>\n",
              "<table border=\"1\" class=\"dataframe\">\n",
              "  <thead>\n",
              "    <tr style=\"text-align: right;\">\n",
              "      <th></th>\n",
              "      <th>PID</th>\n",
              "      <th>Blue</th>\n",
              "      <th>Wi_Fi</th>\n",
              "      <th>Tch_Scr</th>\n",
              "      <th>Ext_Mem</th>\n",
              "      <th>Px_h</th>\n",
              "      <th>Px_w</th>\n",
              "      <th>Scr_h</th>\n",
              "      <th>Scr_w</th>\n",
              "      <th>PC</th>\n",
              "      <th>FC</th>\n",
              "      <th>Int_Mem</th>\n",
              "      <th>Bty_Pwr</th>\n",
              "      <th>RAM</th>\n",
              "      <th>Depth</th>\n",
              "      <th>Weight</th>\n",
              "      <th>Price</th>\n",
              "      <th>Px</th>\n",
              "      <th>Scr_d</th>\n",
              "    </tr>\n",
              "  </thead>\n",
              "  <tbody>\n",
              "    <tr>\n",
              "      <th>30</th>\n",
              "      <td>TVF078Y</td>\n",
              "      <td>yes</td>\n",
              "      <td>yes</td>\n",
              "      <td>yes</td>\n",
              "      <td>yes</td>\n",
              "      <td>2580</td>\n",
              "      <td>2120</td>\n",
              "      <td>8</td>\n",
              "      <td>6</td>\n",
              "      <td>64</td>\n",
              "      <td>32</td>\n",
              "      <td>512</td>\n",
              "      <td>4860</td>\n",
              "      <td>8</td>\n",
              "      <td>3</td>\n",
              "      <td>90</td>\n",
              "      <td>29999</td>\n",
              "      <td>5469600</td>\n",
              "      <td>10.0</td>\n",
              "    </tr>\n",
              "    <tr>\n",
              "      <th>32</th>\n",
              "      <td>TYS938L</td>\n",
              "      <td>yes</td>\n",
              "      <td>yes</td>\n",
              "      <td>yes</td>\n",
              "      <td>yes</td>\n",
              "      <td>2580</td>\n",
              "      <td>2120</td>\n",
              "      <td>8</td>\n",
              "      <td>6</td>\n",
              "      <td>64</td>\n",
              "      <td>32</td>\n",
              "      <td>1024</td>\n",
              "      <td>4860</td>\n",
              "      <td>8</td>\n",
              "      <td>3</td>\n",
              "      <td>120</td>\n",
              "      <td>46777</td>\n",
              "      <td>5469600</td>\n",
              "      <td>10.0</td>\n",
              "    </tr>\n",
              "    <tr>\n",
              "      <th>42</th>\n",
              "      <td>WZB298K</td>\n",
              "      <td>yes</td>\n",
              "      <td>yes</td>\n",
              "      <td>yes</td>\n",
              "      <td>yes</td>\n",
              "      <td>2580</td>\n",
              "      <td>1980</td>\n",
              "      <td>8</td>\n",
              "      <td>6</td>\n",
              "      <td>64</td>\n",
              "      <td>32</td>\n",
              "      <td>1024</td>\n",
              "      <td>5600</td>\n",
              "      <td>8</td>\n",
              "      <td>3</td>\n",
              "      <td>160</td>\n",
              "      <td>39000</td>\n",
              "      <td>5108400</td>\n",
              "      <td>10.0</td>\n",
              "    </tr>\n",
              "  </tbody>\n",
              "</table>\n",
              "</div>"
            ],
            "text/plain": [
              "        PID Blue Wi_Fi Tch_Scr Ext_Mem  Px_h  Px_w  Scr_h  Scr_w  PC  FC  \\\n",
              "30  TVF078Y  yes   yes     yes     yes  2580  2120      8      6  64  32   \n",
              "32  TYS938L  yes   yes     yes     yes  2580  2120      8      6  64  32   \n",
              "42  WZB298K  yes   yes     yes     yes  2580  1980      8      6  64  32   \n",
              "\n",
              "    Int_Mem  Bty_Pwr  RAM  Depth  Weight  Price       Px  Scr_d  \n",
              "30      512     4860    8      3      90  29999  5469600   10.0  \n",
              "32     1024     4860    8      3     120  46777  5469600   10.0  \n",
              "42     1024     5600    8      3     160  39000  5108400   10.0  "
            ]
          },
          "execution_count": 36,
          "metadata": {},
          "output_type": "execute_result"
        }
      ],
      "source": [
        "# Subset the dataframe using all the logical conditions that have been stored\n",
        "# Store the subset of the dataframe as a new dataframe called \"df1\"\n",
        "\n",
        "df1 = data[con1 & con2 & con3 & con4 & con5 & con6]\n",
        "\n",
        "df1\n"
      ]
    },
    {
      "cell_type": "code",
      "execution_count": 37,
      "metadata": {
        "id": "Y0Bp7BKkN86o"
      },
      "outputs": [
        {
          "data": {
            "text/plain": [
              "(3, 19)"
            ]
          },
          "execution_count": 37,
          "metadata": {},
          "output_type": "execute_result"
        }
      ],
      "source": [
        "# Get the dimensions of the dataframe\n",
        "\n",
        "df1.shape"
      ]
    },
    {
      "cell_type": "code",
      "execution_count": 38,
      "metadata": {
        "id": "H5tg2OEkN86p"
      },
      "outputs": [
        {
          "data": {
            "text/html": [
              "<div>\n",
              "<style scoped>\n",
              "    .dataframe tbody tr th:only-of-type {\n",
              "        vertical-align: middle;\n",
              "    }\n",
              "\n",
              "    .dataframe tbody tr th {\n",
              "        vertical-align: top;\n",
              "    }\n",
              "\n",
              "    .dataframe thead th {\n",
              "        text-align: right;\n",
              "    }\n",
              "</style>\n",
              "<table border=\"1\" class=\"dataframe\">\n",
              "  <thead>\n",
              "    <tr style=\"text-align: right;\">\n",
              "      <th></th>\n",
              "      <th>PID</th>\n",
              "      <th>Blue</th>\n",
              "      <th>Wi_Fi</th>\n",
              "      <th>Tch_Scr</th>\n",
              "      <th>Ext_Mem</th>\n",
              "      <th>Px_h</th>\n",
              "      <th>Px_w</th>\n",
              "      <th>Scr_h</th>\n",
              "      <th>Scr_w</th>\n",
              "      <th>PC</th>\n",
              "      <th>FC</th>\n",
              "      <th>Int_Mem</th>\n",
              "      <th>Bty_Pwr</th>\n",
              "      <th>RAM</th>\n",
              "      <th>Depth</th>\n",
              "      <th>Weight</th>\n",
              "      <th>Price</th>\n",
              "      <th>Px</th>\n",
              "      <th>Scr_d</th>\n",
              "    </tr>\n",
              "  </thead>\n",
              "  <tbody>\n",
              "    <tr>\n",
              "      <th>30</th>\n",
              "      <td>TVF078Y</td>\n",
              "      <td>yes</td>\n",
              "      <td>yes</td>\n",
              "      <td>yes</td>\n",
              "      <td>yes</td>\n",
              "      <td>2580</td>\n",
              "      <td>2120</td>\n",
              "      <td>8</td>\n",
              "      <td>6</td>\n",
              "      <td>64</td>\n",
              "      <td>32</td>\n",
              "      <td>512</td>\n",
              "      <td>4860</td>\n",
              "      <td>8</td>\n",
              "      <td>3</td>\n",
              "      <td>90</td>\n",
              "      <td>29999</td>\n",
              "      <td>5469600</td>\n",
              "      <td>10.0</td>\n",
              "    </tr>\n",
              "    <tr>\n",
              "      <th>32</th>\n",
              "      <td>TYS938L</td>\n",
              "      <td>yes</td>\n",
              "      <td>yes</td>\n",
              "      <td>yes</td>\n",
              "      <td>yes</td>\n",
              "      <td>2580</td>\n",
              "      <td>2120</td>\n",
              "      <td>8</td>\n",
              "      <td>6</td>\n",
              "      <td>64</td>\n",
              "      <td>32</td>\n",
              "      <td>1024</td>\n",
              "      <td>4860</td>\n",
              "      <td>8</td>\n",
              "      <td>3</td>\n",
              "      <td>120</td>\n",
              "      <td>46777</td>\n",
              "      <td>5469600</td>\n",
              "      <td>10.0</td>\n",
              "    </tr>\n",
              "    <tr>\n",
              "      <th>42</th>\n",
              "      <td>WZB298K</td>\n",
              "      <td>yes</td>\n",
              "      <td>yes</td>\n",
              "      <td>yes</td>\n",
              "      <td>yes</td>\n",
              "      <td>2580</td>\n",
              "      <td>1980</td>\n",
              "      <td>8</td>\n",
              "      <td>6</td>\n",
              "      <td>64</td>\n",
              "      <td>32</td>\n",
              "      <td>1024</td>\n",
              "      <td>5600</td>\n",
              "      <td>8</td>\n",
              "      <td>3</td>\n",
              "      <td>160</td>\n",
              "      <td>39000</td>\n",
              "      <td>5108400</td>\n",
              "      <td>10.0</td>\n",
              "    </tr>\n",
              "  </tbody>\n",
              "</table>\n",
              "</div>"
            ],
            "text/plain": [
              "        PID Blue Wi_Fi Tch_Scr Ext_Mem  Px_h  Px_w  Scr_h  Scr_w  PC  FC  \\\n",
              "30  TVF078Y  yes   yes     yes     yes  2580  2120      8      6  64  32   \n",
              "32  TYS938L  yes   yes     yes     yes  2580  2120      8      6  64  32   \n",
              "42  WZB298K  yes   yes     yes     yes  2580  1980      8      6  64  32   \n",
              "\n",
              "    Int_Mem  Bty_Pwr  RAM  Depth  Weight  Price       Px  Scr_d  \n",
              "30      512     4860    8      3      90  29999  5469600   10.0  \n",
              "32     1024     4860    8      3     120  46777  5469600   10.0  \n",
              "42     1024     5600    8      3     160  39000  5108400   10.0  "
            ]
          },
          "execution_count": 38,
          "metadata": {},
          "output_type": "execute_result"
        }
      ],
      "source": [
        "# Sort the dataframe according to the \"Price\" feature in ascending order and display it\n",
        "\n",
        "df1.sort_values(by=['Price'], ascending=True)\n",
        "df1"
      ]
    },
    {
      "cell_type": "markdown",
      "metadata": {
        "id": "Zn6iT-HQSocg"
      },
      "source": [
        "Observations:\n",
        "\n",
        "Based on all the logical conditions obtained through analysis of the features, we are left with three phones.\n",
        "\n",
        "The most expensive of these phones is the \"TYS938L\" model and the least expensive is the \"TVF078Y\" model.\n",
        "\n",
        "We could let the children choose from these three phones as per their preferences."
      ]
    },
    {
      "cell_type": "markdown",
      "metadata": {
        "id": "O09ZVXlbSvhj"
      },
      "source": [
        "# Task 9 - Study the variability of the features in the original data set"
      ]
    },
    {
      "cell_type": "code",
      "execution_count": 39,
      "metadata": {},
      "outputs": [
        {
          "name": "stdout",
          "output_type": "stream",
          "text": [
            "['Px_h', 'Px_w', 'Scr_h', 'Scr_w', 'PC', 'FC', 'Int_Mem', 'Bty_Pwr', 'RAM', 'Depth', 'Weight', 'Price', 'Px', 'Scr_d']\n"
          ]
        }
      ],
      "source": [
        "x = []\n",
        "for i in data.columns:\n",
        "    if data[i].dtypes != 'object':\n",
        "        x.append(i)\n",
        "    else:\n",
        "        continue\n",
        "\n",
        "print(x)"
      ]
    },
    {
      "cell_type": "code",
      "execution_count": 40,
      "metadata": {},
      "outputs": [
        {
          "data": {
            "text/html": [
              "<div>\n",
              "<style scoped>\n",
              "    .dataframe tbody tr th:only-of-type {\n",
              "        vertical-align: middle;\n",
              "    }\n",
              "\n",
              "    .dataframe tbody tr th {\n",
              "        vertical-align: top;\n",
              "    }\n",
              "\n",
              "    .dataframe thead th {\n",
              "        text-align: right;\n",
              "    }\n",
              "</style>\n",
              "<table border=\"1\" class=\"dataframe\">\n",
              "  <thead>\n",
              "    <tr style=\"text-align: right;\">\n",
              "      <th></th>\n",
              "      <th>Px_h</th>\n",
              "      <th>Px_w</th>\n",
              "      <th>Scr_h</th>\n",
              "      <th>Scr_w</th>\n",
              "      <th>PC</th>\n",
              "      <th>FC</th>\n",
              "      <th>Int_Mem</th>\n",
              "      <th>Bty_Pwr</th>\n",
              "      <th>RAM</th>\n",
              "      <th>Depth</th>\n",
              "      <th>Weight</th>\n",
              "      <th>Price</th>\n",
              "      <th>Px</th>\n",
              "      <th>Scr_d</th>\n",
              "    </tr>\n",
              "  </thead>\n",
              "  <tbody>\n",
              "    <tr>\n",
              "      <th>0</th>\n",
              "      <td>780</td>\n",
              "      <td>460</td>\n",
              "      <td>3</td>\n",
              "      <td>1</td>\n",
              "      <td>2</td>\n",
              "      <td>2</td>\n",
              "      <td>8</td>\n",
              "      <td>2800</td>\n",
              "      <td>2</td>\n",
              "      <td>7</td>\n",
              "      <td>320</td>\n",
              "      <td>3297</td>\n",
              "      <td>358800</td>\n",
              "      <td>3.162278</td>\n",
              "    </tr>\n",
              "    <tr>\n",
              "      <th>1</th>\n",
              "      <td>780</td>\n",
              "      <td>560</td>\n",
              "      <td>2</td>\n",
              "      <td>1</td>\n",
              "      <td>4</td>\n",
              "      <td>2</td>\n",
              "      <td>8</td>\n",
              "      <td>3000</td>\n",
              "      <td>2</td>\n",
              "      <td>7</td>\n",
              "      <td>280</td>\n",
              "      <td>4500</td>\n",
              "      <td>436800</td>\n",
              "      <td>2.236068</td>\n",
              "    </tr>\n",
              "    <tr>\n",
              "      <th>2</th>\n",
              "      <td>840</td>\n",
              "      <td>720</td>\n",
              "      <td>2</td>\n",
              "      <td>1</td>\n",
              "      <td>4</td>\n",
              "      <td>2</td>\n",
              "      <td>8</td>\n",
              "      <td>3300</td>\n",
              "      <td>2</td>\n",
              "      <td>7</td>\n",
              "      <td>400</td>\n",
              "      <td>4898</td>\n",
              "      <td>604800</td>\n",
              "      <td>2.236068</td>\n",
              "    </tr>\n",
              "    <tr>\n",
              "      <th>3</th>\n",
              "      <td>1280</td>\n",
              "      <td>1120</td>\n",
              "      <td>5</td>\n",
              "      <td>3</td>\n",
              "      <td>6</td>\n",
              "      <td>2</td>\n",
              "      <td>32</td>\n",
              "      <td>3000</td>\n",
              "      <td>2</td>\n",
              "      <td>3</td>\n",
              "      <td>300</td>\n",
              "      <td>6900</td>\n",
              "      <td>1433600</td>\n",
              "      <td>5.830952</td>\n",
              "    </tr>\n",
              "    <tr>\n",
              "      <th>4</th>\n",
              "      <td>1280</td>\n",
              "      <td>1080</td>\n",
              "      <td>4</td>\n",
              "      <td>3</td>\n",
              "      <td>6</td>\n",
              "      <td>2</td>\n",
              "      <td>16</td>\n",
              "      <td>3000</td>\n",
              "      <td>2</td>\n",
              "      <td>3</td>\n",
              "      <td>210</td>\n",
              "      <td>5600</td>\n",
              "      <td>1382400</td>\n",
              "      <td>5.000000</td>\n",
              "    </tr>\n",
              "    <tr>\n",
              "      <th>5</th>\n",
              "      <td>1280</td>\n",
              "      <td>1080</td>\n",
              "      <td>4</td>\n",
              "      <td>3</td>\n",
              "      <td>6</td>\n",
              "      <td>4</td>\n",
              "      <td>8</td>\n",
              "      <td>2980</td>\n",
              "      <td>2</td>\n",
              "      <td>3</td>\n",
              "      <td>230</td>\n",
              "      <td>4990</td>\n",
              "      <td>1382400</td>\n",
              "      <td>5.000000</td>\n",
              "    </tr>\n",
              "    <tr>\n",
              "      <th>6</th>\n",
              "      <td>1390</td>\n",
              "      <td>1080</td>\n",
              "      <td>6</td>\n",
              "      <td>3</td>\n",
              "      <td>8</td>\n",
              "      <td>4</td>\n",
              "      <td>32</td>\n",
              "      <td>3000</td>\n",
              "      <td>2</td>\n",
              "      <td>3</td>\n",
              "      <td>100</td>\n",
              "      <td>13400</td>\n",
              "      <td>1501200</td>\n",
              "      <td>6.708204</td>\n",
              "    </tr>\n",
              "    <tr>\n",
              "      <th>7</th>\n",
              "      <td>2880</td>\n",
              "      <td>2120</td>\n",
              "      <td>8</td>\n",
              "      <td>6</td>\n",
              "      <td>12</td>\n",
              "      <td>8</td>\n",
              "      <td>32</td>\n",
              "      <td>3200</td>\n",
              "      <td>2</td>\n",
              "      <td>3</td>\n",
              "      <td>80</td>\n",
              "      <td>15600</td>\n",
              "      <td>6105600</td>\n",
              "      <td>10.000000</td>\n",
              "    </tr>\n",
              "    <tr>\n",
              "      <th>8</th>\n",
              "      <td>2580</td>\n",
              "      <td>1920</td>\n",
              "      <td>6</td>\n",
              "      <td>3</td>\n",
              "      <td>32</td>\n",
              "      <td>16</td>\n",
              "      <td>8</td>\n",
              "      <td>2800</td>\n",
              "      <td>6</td>\n",
              "      <td>3</td>\n",
              "      <td>120</td>\n",
              "      <td>27688</td>\n",
              "      <td>4953600</td>\n",
              "      <td>6.708204</td>\n",
              "    </tr>\n",
              "    <tr>\n",
              "      <th>9</th>\n",
              "      <td>2580</td>\n",
              "      <td>1980</td>\n",
              "      <td>5</td>\n",
              "      <td>3</td>\n",
              "      <td>64</td>\n",
              "      <td>32</td>\n",
              "      <td>64</td>\n",
              "      <td>4380</td>\n",
              "      <td>4</td>\n",
              "      <td>3</td>\n",
              "      <td>150</td>\n",
              "      <td>23456</td>\n",
              "      <td>5108400</td>\n",
              "      <td>5.830952</td>\n",
              "    </tr>\n",
              "    <tr>\n",
              "      <th>10</th>\n",
              "      <td>2580</td>\n",
              "      <td>1920</td>\n",
              "      <td>6</td>\n",
              "      <td>3</td>\n",
              "      <td>32</td>\n",
              "      <td>16</td>\n",
              "      <td>128</td>\n",
              "      <td>2800</td>\n",
              "      <td>4</td>\n",
              "      <td>4</td>\n",
              "      <td>210</td>\n",
              "      <td>35460</td>\n",
              "      <td>4953600</td>\n",
              "      <td>6.708204</td>\n",
              "    </tr>\n",
              "    <tr>\n",
              "      <th>11</th>\n",
              "      <td>2580</td>\n",
              "      <td>1920</td>\n",
              "      <td>8</td>\n",
              "      <td>6</td>\n",
              "      <td>64</td>\n",
              "      <td>32</td>\n",
              "      <td>8</td>\n",
              "      <td>4500</td>\n",
              "      <td>8</td>\n",
              "      <td>4</td>\n",
              "      <td>150</td>\n",
              "      <td>43980</td>\n",
              "      <td>4953600</td>\n",
              "      <td>10.000000</td>\n",
              "    </tr>\n",
              "    <tr>\n",
              "      <th>12</th>\n",
              "      <td>2580</td>\n",
              "      <td>1980</td>\n",
              "      <td>6</td>\n",
              "      <td>5</td>\n",
              "      <td>64</td>\n",
              "      <td>32</td>\n",
              "      <td>64</td>\n",
              "      <td>4500</td>\n",
              "      <td>6</td>\n",
              "      <td>4</td>\n",
              "      <td>300</td>\n",
              "      <td>28700</td>\n",
              "      <td>5108400</td>\n",
              "      <td>7.810250</td>\n",
              "    </tr>\n",
              "    <tr>\n",
              "      <th>13</th>\n",
              "      <td>2880</td>\n",
              "      <td>2120</td>\n",
              "      <td>6</td>\n",
              "      <td>5</td>\n",
              "      <td>32</td>\n",
              "      <td>16</td>\n",
              "      <td>64</td>\n",
              "      <td>2800</td>\n",
              "      <td>6</td>\n",
              "      <td>4</td>\n",
              "      <td>270</td>\n",
              "      <td>23600</td>\n",
              "      <td>6105600</td>\n",
              "      <td>7.810250</td>\n",
              "    </tr>\n",
              "    <tr>\n",
              "      <th>14</th>\n",
              "      <td>2380</td>\n",
              "      <td>1820</td>\n",
              "      <td>5</td>\n",
              "      <td>3</td>\n",
              "      <td>16</td>\n",
              "      <td>8</td>\n",
              "      <td>8</td>\n",
              "      <td>2800</td>\n",
              "      <td>4</td>\n",
              "      <td>4</td>\n",
              "      <td>80</td>\n",
              "      <td>21972</td>\n",
              "      <td>4331600</td>\n",
              "      <td>5.830952</td>\n",
              "    </tr>\n",
              "    <tr>\n",
              "      <th>15</th>\n",
              "      <td>1980</td>\n",
              "      <td>1760</td>\n",
              "      <td>10</td>\n",
              "      <td>8</td>\n",
              "      <td>16</td>\n",
              "      <td>16</td>\n",
              "      <td>128</td>\n",
              "      <td>3900</td>\n",
              "      <td>6</td>\n",
              "      <td>4</td>\n",
              "      <td>180</td>\n",
              "      <td>23456</td>\n",
              "      <td>3484800</td>\n",
              "      <td>12.806248</td>\n",
              "    </tr>\n",
              "    <tr>\n",
              "      <th>16</th>\n",
              "      <td>2580</td>\n",
              "      <td>1980</td>\n",
              "      <td>8</td>\n",
              "      <td>6</td>\n",
              "      <td>64</td>\n",
              "      <td>32</td>\n",
              "      <td>128</td>\n",
              "      <td>3300</td>\n",
              "      <td>4</td>\n",
              "      <td>3</td>\n",
              "      <td>160</td>\n",
              "      <td>22650</td>\n",
              "      <td>5108400</td>\n",
              "      <td>10.000000</td>\n",
              "    </tr>\n",
              "    <tr>\n",
              "      <th>17</th>\n",
              "      <td>2880</td>\n",
              "      <td>2120</td>\n",
              "      <td>8</td>\n",
              "      <td>6</td>\n",
              "      <td>8</td>\n",
              "      <td>8</td>\n",
              "      <td>64</td>\n",
              "      <td>2800</td>\n",
              "      <td>4</td>\n",
              "      <td>3</td>\n",
              "      <td>250</td>\n",
              "      <td>19806</td>\n",
              "      <td>6105600</td>\n",
              "      <td>10.000000</td>\n",
              "    </tr>\n",
              "    <tr>\n",
              "      <th>18</th>\n",
              "      <td>1980</td>\n",
              "      <td>1760</td>\n",
              "      <td>8</td>\n",
              "      <td>6</td>\n",
              "      <td>12</td>\n",
              "      <td>4</td>\n",
              "      <td>8</td>\n",
              "      <td>4000</td>\n",
              "      <td>4</td>\n",
              "      <td>3</td>\n",
              "      <td>330</td>\n",
              "      <td>11388</td>\n",
              "      <td>3484800</td>\n",
              "      <td>10.000000</td>\n",
              "    </tr>\n",
              "    <tr>\n",
              "      <th>19</th>\n",
              "      <td>2880</td>\n",
              "      <td>2120</td>\n",
              "      <td>4</td>\n",
              "      <td>3</td>\n",
              "      <td>24</td>\n",
              "      <td>12</td>\n",
              "      <td>64</td>\n",
              "      <td>2800</td>\n",
              "      <td>4</td>\n",
              "      <td>3</td>\n",
              "      <td>200</td>\n",
              "      <td>14350</td>\n",
              "      <td>6105600</td>\n",
              "      <td>5.000000</td>\n",
              "    </tr>\n",
              "    <tr>\n",
              "      <th>20</th>\n",
              "      <td>1980</td>\n",
              "      <td>1760</td>\n",
              "      <td>4</td>\n",
              "      <td>3</td>\n",
              "      <td>32</td>\n",
              "      <td>16</td>\n",
              "      <td>16</td>\n",
              "      <td>2800</td>\n",
              "      <td>4</td>\n",
              "      <td>3</td>\n",
              "      <td>150</td>\n",
              "      <td>24560</td>\n",
              "      <td>3484800</td>\n",
              "      <td>5.000000</td>\n",
              "    </tr>\n",
              "    <tr>\n",
              "      <th>21</th>\n",
              "      <td>2580</td>\n",
              "      <td>1980</td>\n",
              "      <td>8</td>\n",
              "      <td>6</td>\n",
              "      <td>64</td>\n",
              "      <td>32</td>\n",
              "      <td>128</td>\n",
              "      <td>4400</td>\n",
              "      <td>4</td>\n",
              "      <td>3</td>\n",
              "      <td>160</td>\n",
              "      <td>21350</td>\n",
              "      <td>5108400</td>\n",
              "      <td>10.000000</td>\n",
              "    </tr>\n",
              "    <tr>\n",
              "      <th>22</th>\n",
              "      <td>1440</td>\n",
              "      <td>1280</td>\n",
              "      <td>4</td>\n",
              "      <td>3</td>\n",
              "      <td>8</td>\n",
              "      <td>8</td>\n",
              "      <td>64</td>\n",
              "      <td>2800</td>\n",
              "      <td>8</td>\n",
              "      <td>3</td>\n",
              "      <td>170</td>\n",
              "      <td>16999</td>\n",
              "      <td>1843200</td>\n",
              "      <td>5.000000</td>\n",
              "    </tr>\n",
              "    <tr>\n",
              "      <th>23</th>\n",
              "      <td>2880</td>\n",
              "      <td>2120</td>\n",
              "      <td>10</td>\n",
              "      <td>8</td>\n",
              "      <td>8</td>\n",
              "      <td>4</td>\n",
              "      <td>16</td>\n",
              "      <td>4800</td>\n",
              "      <td>8</td>\n",
              "      <td>3</td>\n",
              "      <td>170</td>\n",
              "      <td>18900</td>\n",
              "      <td>6105600</td>\n",
              "      <td>12.806248</td>\n",
              "    </tr>\n",
              "    <tr>\n",
              "      <th>24</th>\n",
              "      <td>1440</td>\n",
              "      <td>1280</td>\n",
              "      <td>6</td>\n",
              "      <td>4</td>\n",
              "      <td>8</td>\n",
              "      <td>4</td>\n",
              "      <td>32</td>\n",
              "      <td>2800</td>\n",
              "      <td>8</td>\n",
              "      <td>3</td>\n",
              "      <td>150</td>\n",
              "      <td>17890</td>\n",
              "      <td>1843200</td>\n",
              "      <td>7.211103</td>\n",
              "    </tr>\n",
              "    <tr>\n",
              "      <th>25</th>\n",
              "      <td>2580</td>\n",
              "      <td>1980</td>\n",
              "      <td>6</td>\n",
              "      <td>3</td>\n",
              "      <td>64</td>\n",
              "      <td>32</td>\n",
              "      <td>64</td>\n",
              "      <td>4500</td>\n",
              "      <td>8</td>\n",
              "      <td>3</td>\n",
              "      <td>210</td>\n",
              "      <td>22000</td>\n",
              "      <td>5108400</td>\n",
              "      <td>6.708204</td>\n",
              "    </tr>\n",
              "    <tr>\n",
              "      <th>26</th>\n",
              "      <td>1980</td>\n",
              "      <td>1280</td>\n",
              "      <td>5</td>\n",
              "      <td>3</td>\n",
              "      <td>8</td>\n",
              "      <td>4</td>\n",
              "      <td>128</td>\n",
              "      <td>4500</td>\n",
              "      <td>8</td>\n",
              "      <td>3</td>\n",
              "      <td>220</td>\n",
              "      <td>41320</td>\n",
              "      <td>2534400</td>\n",
              "      <td>5.830952</td>\n",
              "    </tr>\n",
              "    <tr>\n",
              "      <th>27</th>\n",
              "      <td>2580</td>\n",
              "      <td>2120</td>\n",
              "      <td>8</td>\n",
              "      <td>6</td>\n",
              "      <td>64</td>\n",
              "      <td>16</td>\n",
              "      <td>32</td>\n",
              "      <td>4300</td>\n",
              "      <td>8</td>\n",
              "      <td>3</td>\n",
              "      <td>200</td>\n",
              "      <td>49899</td>\n",
              "      <td>5469600</td>\n",
              "      <td>10.000000</td>\n",
              "    </tr>\n",
              "    <tr>\n",
              "      <th>28</th>\n",
              "      <td>2580</td>\n",
              "      <td>2120</td>\n",
              "      <td>8</td>\n",
              "      <td>6</td>\n",
              "      <td>64</td>\n",
              "      <td>32</td>\n",
              "      <td>512</td>\n",
              "      <td>4200</td>\n",
              "      <td>8</td>\n",
              "      <td>3</td>\n",
              "      <td>270</td>\n",
              "      <td>36555</td>\n",
              "      <td>5469600</td>\n",
              "      <td>10.000000</td>\n",
              "    </tr>\n",
              "    <tr>\n",
              "      <th>29</th>\n",
              "      <td>2580</td>\n",
              "      <td>2120</td>\n",
              "      <td>8</td>\n",
              "      <td>6</td>\n",
              "      <td>64</td>\n",
              "      <td>16</td>\n",
              "      <td>256</td>\n",
              "      <td>5000</td>\n",
              "      <td>8</td>\n",
              "      <td>3</td>\n",
              "      <td>320</td>\n",
              "      <td>32459</td>\n",
              "      <td>5469600</td>\n",
              "      <td>10.000000</td>\n",
              "    </tr>\n",
              "    <tr>\n",
              "      <th>30</th>\n",
              "      <td>2580</td>\n",
              "      <td>2120</td>\n",
              "      <td>8</td>\n",
              "      <td>6</td>\n",
              "      <td>64</td>\n",
              "      <td>32</td>\n",
              "      <td>512</td>\n",
              "      <td>4860</td>\n",
              "      <td>8</td>\n",
              "      <td>3</td>\n",
              "      <td>90</td>\n",
              "      <td>29999</td>\n",
              "      <td>5469600</td>\n",
              "      <td>10.000000</td>\n",
              "    </tr>\n",
              "    <tr>\n",
              "      <th>31</th>\n",
              "      <td>2580</td>\n",
              "      <td>2120</td>\n",
              "      <td>8</td>\n",
              "      <td>6</td>\n",
              "      <td>32</td>\n",
              "      <td>16</td>\n",
              "      <td>256</td>\n",
              "      <td>3300</td>\n",
              "      <td>8</td>\n",
              "      <td>3</td>\n",
              "      <td>110</td>\n",
              "      <td>45899</td>\n",
              "      <td>5469600</td>\n",
              "      <td>10.000000</td>\n",
              "    </tr>\n",
              "    <tr>\n",
              "      <th>32</th>\n",
              "      <td>2580</td>\n",
              "      <td>2120</td>\n",
              "      <td>8</td>\n",
              "      <td>6</td>\n",
              "      <td>64</td>\n",
              "      <td>32</td>\n",
              "      <td>1024</td>\n",
              "      <td>4860</td>\n",
              "      <td>8</td>\n",
              "      <td>3</td>\n",
              "      <td>120</td>\n",
              "      <td>46777</td>\n",
              "      <td>5469600</td>\n",
              "      <td>10.000000</td>\n",
              "    </tr>\n",
              "    <tr>\n",
              "      <th>33</th>\n",
              "      <td>2580</td>\n",
              "      <td>2120</td>\n",
              "      <td>8</td>\n",
              "      <td>6</td>\n",
              "      <td>64</td>\n",
              "      <td>32</td>\n",
              "      <td>128</td>\n",
              "      <td>2800</td>\n",
              "      <td>8</td>\n",
              "      <td>3</td>\n",
              "      <td>120</td>\n",
              "      <td>45680</td>\n",
              "      <td>5469600</td>\n",
              "      <td>10.000000</td>\n",
              "    </tr>\n",
              "    <tr>\n",
              "      <th>34</th>\n",
              "      <td>2880</td>\n",
              "      <td>2120</td>\n",
              "      <td>6</td>\n",
              "      <td>3</td>\n",
              "      <td>64</td>\n",
              "      <td>32</td>\n",
              "      <td>128</td>\n",
              "      <td>4400</td>\n",
              "      <td>8</td>\n",
              "      <td>4</td>\n",
              "      <td>150</td>\n",
              "      <td>61750</td>\n",
              "      <td>6105600</td>\n",
              "      <td>6.708204</td>\n",
              "    </tr>\n",
              "    <tr>\n",
              "      <th>35</th>\n",
              "      <td>2440</td>\n",
              "      <td>2120</td>\n",
              "      <td>5</td>\n",
              "      <td>3</td>\n",
              "      <td>32</td>\n",
              "      <td>16</td>\n",
              "      <td>64</td>\n",
              "      <td>2800</td>\n",
              "      <td>8</td>\n",
              "      <td>4</td>\n",
              "      <td>210</td>\n",
              "      <td>42000</td>\n",
              "      <td>5172800</td>\n",
              "      <td>5.830952</td>\n",
              "    </tr>\n",
              "    <tr>\n",
              "      <th>36</th>\n",
              "      <td>2580</td>\n",
              "      <td>1980</td>\n",
              "      <td>10</td>\n",
              "      <td>8</td>\n",
              "      <td>64</td>\n",
              "      <td>32</td>\n",
              "      <td>32</td>\n",
              "      <td>3000</td>\n",
              "      <td>4</td>\n",
              "      <td>4</td>\n",
              "      <td>240</td>\n",
              "      <td>34589</td>\n",
              "      <td>5108400</td>\n",
              "      <td>12.806248</td>\n",
              "    </tr>\n",
              "    <tr>\n",
              "      <th>37</th>\n",
              "      <td>2440</td>\n",
              "      <td>1980</td>\n",
              "      <td>5</td>\n",
              "      <td>3</td>\n",
              "      <td>48</td>\n",
              "      <td>32</td>\n",
              "      <td>128</td>\n",
              "      <td>4800</td>\n",
              "      <td>4</td>\n",
              "      <td>4</td>\n",
              "      <td>230</td>\n",
              "      <td>42300</td>\n",
              "      <td>4831200</td>\n",
              "      <td>5.830952</td>\n",
              "    </tr>\n",
              "    <tr>\n",
              "      <th>38</th>\n",
              "      <td>2580</td>\n",
              "      <td>1920</td>\n",
              "      <td>5</td>\n",
              "      <td>3</td>\n",
              "      <td>64</td>\n",
              "      <td>32</td>\n",
              "      <td>32</td>\n",
              "      <td>4860</td>\n",
              "      <td>8</td>\n",
              "      <td>4</td>\n",
              "      <td>310</td>\n",
              "      <td>39781</td>\n",
              "      <td>4953600</td>\n",
              "      <td>5.830952</td>\n",
              "    </tr>\n",
              "    <tr>\n",
              "      <th>39</th>\n",
              "      <td>2440</td>\n",
              "      <td>1980</td>\n",
              "      <td>6</td>\n",
              "      <td>5</td>\n",
              "      <td>32</td>\n",
              "      <td>16</td>\n",
              "      <td>32</td>\n",
              "      <td>3200</td>\n",
              "      <td>4</td>\n",
              "      <td>4</td>\n",
              "      <td>180</td>\n",
              "      <td>33460</td>\n",
              "      <td>4831200</td>\n",
              "      <td>7.810250</td>\n",
              "    </tr>\n",
              "    <tr>\n",
              "      <th>40</th>\n",
              "      <td>2580</td>\n",
              "      <td>1980</td>\n",
              "      <td>5</td>\n",
              "      <td>3</td>\n",
              "      <td>64</td>\n",
              "      <td>32</td>\n",
              "      <td>128</td>\n",
              "      <td>3000</td>\n",
              "      <td>4</td>\n",
              "      <td>4</td>\n",
              "      <td>120</td>\n",
              "      <td>34780</td>\n",
              "      <td>5108400</td>\n",
              "      <td>5.830952</td>\n",
              "    </tr>\n",
              "    <tr>\n",
              "      <th>41</th>\n",
              "      <td>2580</td>\n",
              "      <td>1980</td>\n",
              "      <td>8</td>\n",
              "      <td>6</td>\n",
              "      <td>48</td>\n",
              "      <td>16</td>\n",
              "      <td>128</td>\n",
              "      <td>3400</td>\n",
              "      <td>4</td>\n",
              "      <td>3</td>\n",
              "      <td>140</td>\n",
              "      <td>28000</td>\n",
              "      <td>5108400</td>\n",
              "      <td>10.000000</td>\n",
              "    </tr>\n",
              "    <tr>\n",
              "      <th>42</th>\n",
              "      <td>2580</td>\n",
              "      <td>1980</td>\n",
              "      <td>8</td>\n",
              "      <td>6</td>\n",
              "      <td>64</td>\n",
              "      <td>32</td>\n",
              "      <td>1024</td>\n",
              "      <td>5600</td>\n",
              "      <td>8</td>\n",
              "      <td>3</td>\n",
              "      <td>160</td>\n",
              "      <td>39000</td>\n",
              "      <td>5108400</td>\n",
              "      <td>10.000000</td>\n",
              "    </tr>\n",
              "    <tr>\n",
              "      <th>43</th>\n",
              "      <td>2580</td>\n",
              "      <td>1980</td>\n",
              "      <td>8</td>\n",
              "      <td>6</td>\n",
              "      <td>32</td>\n",
              "      <td>16</td>\n",
              "      <td>256</td>\n",
              "      <td>3900</td>\n",
              "      <td>4</td>\n",
              "      <td>3</td>\n",
              "      <td>210</td>\n",
              "      <td>54320</td>\n",
              "      <td>5108400</td>\n",
              "      <td>10.000000</td>\n",
              "    </tr>\n",
              "    <tr>\n",
              "      <th>44</th>\n",
              "      <td>2580</td>\n",
              "      <td>1980</td>\n",
              "      <td>10</td>\n",
              "      <td>8</td>\n",
              "      <td>64</td>\n",
              "      <td>32</td>\n",
              "      <td>512</td>\n",
              "      <td>4560</td>\n",
              "      <td>8</td>\n",
              "      <td>3</td>\n",
              "      <td>260</td>\n",
              "      <td>51230</td>\n",
              "      <td>5108400</td>\n",
              "      <td>12.806248</td>\n",
              "    </tr>\n",
              "    <tr>\n",
              "      <th>45</th>\n",
              "      <td>2580</td>\n",
              "      <td>1980</td>\n",
              "      <td>8</td>\n",
              "      <td>6</td>\n",
              "      <td>64</td>\n",
              "      <td>32</td>\n",
              "      <td>64</td>\n",
              "      <td>2300</td>\n",
              "      <td>4</td>\n",
              "      <td>3</td>\n",
              "      <td>250</td>\n",
              "      <td>43990</td>\n",
              "      <td>5108400</td>\n",
              "      <td>10.000000</td>\n",
              "    </tr>\n",
              "    <tr>\n",
              "      <th>46</th>\n",
              "      <td>2580</td>\n",
              "      <td>1980</td>\n",
              "      <td>4</td>\n",
              "      <td>3</td>\n",
              "      <td>64</td>\n",
              "      <td>32</td>\n",
              "      <td>64</td>\n",
              "      <td>2800</td>\n",
              "      <td>4</td>\n",
              "      <td>3</td>\n",
              "      <td>200</td>\n",
              "      <td>56000</td>\n",
              "      <td>5108400</td>\n",
              "      <td>5.000000</td>\n",
              "    </tr>\n",
              "    <tr>\n",
              "      <th>47</th>\n",
              "      <td>2880</td>\n",
              "      <td>2520</td>\n",
              "      <td>8</td>\n",
              "      <td>6</td>\n",
              "      <td>64</td>\n",
              "      <td>32</td>\n",
              "      <td>512</td>\n",
              "      <td>5600</td>\n",
              "      <td>12</td>\n",
              "      <td>2</td>\n",
              "      <td>80</td>\n",
              "      <td>84566</td>\n",
              "      <td>7257600</td>\n",
              "      <td>10.000000</td>\n",
              "    </tr>\n",
              "    <tr>\n",
              "      <th>48</th>\n",
              "      <td>2880</td>\n",
              "      <td>2520</td>\n",
              "      <td>8</td>\n",
              "      <td>6</td>\n",
              "      <td>128</td>\n",
              "      <td>64</td>\n",
              "      <td>512</td>\n",
              "      <td>5600</td>\n",
              "      <td>12</td>\n",
              "      <td>2</td>\n",
              "      <td>110</td>\n",
              "      <td>88999</td>\n",
              "      <td>7257600</td>\n",
              "      <td>10.000000</td>\n",
              "    </tr>\n",
              "    <tr>\n",
              "      <th>49</th>\n",
              "      <td>2880</td>\n",
              "      <td>2520</td>\n",
              "      <td>8</td>\n",
              "      <td>6</td>\n",
              "      <td>128</td>\n",
              "      <td>64</td>\n",
              "      <td>1024</td>\n",
              "      <td>5600</td>\n",
              "      <td>12</td>\n",
              "      <td>2</td>\n",
              "      <td>130</td>\n",
              "      <td>149000</td>\n",
              "      <td>7257600</td>\n",
              "      <td>10.000000</td>\n",
              "    </tr>\n",
              "  </tbody>\n",
              "</table>\n",
              "</div>"
            ],
            "text/plain": [
              "    Px_h  Px_w  Scr_h  Scr_w   PC  FC  Int_Mem  Bty_Pwr  RAM  Depth  Weight  \\\n",
              "0    780   460      3      1    2   2        8     2800    2      7     320   \n",
              "1    780   560      2      1    4   2        8     3000    2      7     280   \n",
              "2    840   720      2      1    4   2        8     3300    2      7     400   \n",
              "3   1280  1120      5      3    6   2       32     3000    2      3     300   \n",
              "4   1280  1080      4      3    6   2       16     3000    2      3     210   \n",
              "5   1280  1080      4      3    6   4        8     2980    2      3     230   \n",
              "6   1390  1080      6      3    8   4       32     3000    2      3     100   \n",
              "7   2880  2120      8      6   12   8       32     3200    2      3      80   \n",
              "8   2580  1920      6      3   32  16        8     2800    6      3     120   \n",
              "9   2580  1980      5      3   64  32       64     4380    4      3     150   \n",
              "10  2580  1920      6      3   32  16      128     2800    4      4     210   \n",
              "11  2580  1920      8      6   64  32        8     4500    8      4     150   \n",
              "12  2580  1980      6      5   64  32       64     4500    6      4     300   \n",
              "13  2880  2120      6      5   32  16       64     2800    6      4     270   \n",
              "14  2380  1820      5      3   16   8        8     2800    4      4      80   \n",
              "15  1980  1760     10      8   16  16      128     3900    6      4     180   \n",
              "16  2580  1980      8      6   64  32      128     3300    4      3     160   \n",
              "17  2880  2120      8      6    8   8       64     2800    4      3     250   \n",
              "18  1980  1760      8      6   12   4        8     4000    4      3     330   \n",
              "19  2880  2120      4      3   24  12       64     2800    4      3     200   \n",
              "20  1980  1760      4      3   32  16       16     2800    4      3     150   \n",
              "21  2580  1980      8      6   64  32      128     4400    4      3     160   \n",
              "22  1440  1280      4      3    8   8       64     2800    8      3     170   \n",
              "23  2880  2120     10      8    8   4       16     4800    8      3     170   \n",
              "24  1440  1280      6      4    8   4       32     2800    8      3     150   \n",
              "25  2580  1980      6      3   64  32       64     4500    8      3     210   \n",
              "26  1980  1280      5      3    8   4      128     4500    8      3     220   \n",
              "27  2580  2120      8      6   64  16       32     4300    8      3     200   \n",
              "28  2580  2120      8      6   64  32      512     4200    8      3     270   \n",
              "29  2580  2120      8      6   64  16      256     5000    8      3     320   \n",
              "30  2580  2120      8      6   64  32      512     4860    8      3      90   \n",
              "31  2580  2120      8      6   32  16      256     3300    8      3     110   \n",
              "32  2580  2120      8      6   64  32     1024     4860    8      3     120   \n",
              "33  2580  2120      8      6   64  32      128     2800    8      3     120   \n",
              "34  2880  2120      6      3   64  32      128     4400    8      4     150   \n",
              "35  2440  2120      5      3   32  16       64     2800    8      4     210   \n",
              "36  2580  1980     10      8   64  32       32     3000    4      4     240   \n",
              "37  2440  1980      5      3   48  32      128     4800    4      4     230   \n",
              "38  2580  1920      5      3   64  32       32     4860    8      4     310   \n",
              "39  2440  1980      6      5   32  16       32     3200    4      4     180   \n",
              "40  2580  1980      5      3   64  32      128     3000    4      4     120   \n",
              "41  2580  1980      8      6   48  16      128     3400    4      3     140   \n",
              "42  2580  1980      8      6   64  32     1024     5600    8      3     160   \n",
              "43  2580  1980      8      6   32  16      256     3900    4      3     210   \n",
              "44  2580  1980     10      8   64  32      512     4560    8      3     260   \n",
              "45  2580  1980      8      6   64  32       64     2300    4      3     250   \n",
              "46  2580  1980      4      3   64  32       64     2800    4      3     200   \n",
              "47  2880  2520      8      6   64  32      512     5600   12      2      80   \n",
              "48  2880  2520      8      6  128  64      512     5600   12      2     110   \n",
              "49  2880  2520      8      6  128  64     1024     5600   12      2     130   \n",
              "\n",
              "     Price       Px      Scr_d  \n",
              "0     3297   358800   3.162278  \n",
              "1     4500   436800   2.236068  \n",
              "2     4898   604800   2.236068  \n",
              "3     6900  1433600   5.830952  \n",
              "4     5600  1382400   5.000000  \n",
              "5     4990  1382400   5.000000  \n",
              "6    13400  1501200   6.708204  \n",
              "7    15600  6105600  10.000000  \n",
              "8    27688  4953600   6.708204  \n",
              "9    23456  5108400   5.830952  \n",
              "10   35460  4953600   6.708204  \n",
              "11   43980  4953600  10.000000  \n",
              "12   28700  5108400   7.810250  \n",
              "13   23600  6105600   7.810250  \n",
              "14   21972  4331600   5.830952  \n",
              "15   23456  3484800  12.806248  \n",
              "16   22650  5108400  10.000000  \n",
              "17   19806  6105600  10.000000  \n",
              "18   11388  3484800  10.000000  \n",
              "19   14350  6105600   5.000000  \n",
              "20   24560  3484800   5.000000  \n",
              "21   21350  5108400  10.000000  \n",
              "22   16999  1843200   5.000000  \n",
              "23   18900  6105600  12.806248  \n",
              "24   17890  1843200   7.211103  \n",
              "25   22000  5108400   6.708204  \n",
              "26   41320  2534400   5.830952  \n",
              "27   49899  5469600  10.000000  \n",
              "28   36555  5469600  10.000000  \n",
              "29   32459  5469600  10.000000  \n",
              "30   29999  5469600  10.000000  \n",
              "31   45899  5469600  10.000000  \n",
              "32   46777  5469600  10.000000  \n",
              "33   45680  5469600  10.000000  \n",
              "34   61750  6105600   6.708204  \n",
              "35   42000  5172800   5.830952  \n",
              "36   34589  5108400  12.806248  \n",
              "37   42300  4831200   5.830952  \n",
              "38   39781  4953600   5.830952  \n",
              "39   33460  4831200   7.810250  \n",
              "40   34780  5108400   5.830952  \n",
              "41   28000  5108400  10.000000  \n",
              "42   39000  5108400  10.000000  \n",
              "43   54320  5108400  10.000000  \n",
              "44   51230  5108400  12.806248  \n",
              "45   43990  5108400  10.000000  \n",
              "46   56000  5108400   5.000000  \n",
              "47   84566  7257600  10.000000  \n",
              "48   88999  7257600  10.000000  \n",
              "49  149000  7257600  10.000000  "
            ]
          },
          "execution_count": 40,
          "metadata": {},
          "output_type": "execute_result"
        }
      ],
      "source": [
        "data1 = data[x]\n",
        "data1"
      ]
    },
    {
      "cell_type": "code",
      "execution_count": 41,
      "metadata": {
        "id": "grfzKBDyN86r"
      },
      "outputs": [
        {
          "data": {
            "text/plain": [
              "Px_h       3.875999\n",
              "Px_w       3.902808\n",
              "Scr_h      3.181740\n",
              "Scr_w      2.453240\n",
              "PC         1.397203\n",
              "FC         1.404132\n",
              "Int_Mem    0.663784\n",
              "Bty_Pwr    3.900639\n",
              "RAM        2.087355\n",
              "Depth      3.267207\n",
              "Weight     2.576518\n",
              "Price      1.349768\n",
              "Px         2.508274\n",
              "Scr_d      2.937122\n",
              "dtype: float64"
            ]
          },
          "execution_count": 41,
          "metadata": {},
          "output_type": "execute_result"
        }
      ],
      "source": [
        "# Calculate the ratio of the standard deviation to the mean for all the numerical features in the dataframe\n",
        "# Store these values in a new series wherein the rows are the features and the only column is the calculated ratio\n",
        "# Name the series as \"deviations\"\n",
        "\n",
        "x = []\n",
        "for i in data.columns:\n",
        "    if data[i].dtypes != 'object':\n",
        "        x.append(i)\n",
        "    else:\n",
        "        continue\n",
        "\n",
        "data1 = data[x]\n",
        "\n",
        "\n",
        "deviations =pd.Series(data1.mean()/data1.std(), index = data1.columns)\n",
        "deviations\n"
      ]
    },
    {
      "cell_type": "code",
      "execution_count": 43,
      "metadata": {
        "id": "sBRqrnVaN86s"
      },
      "outputs": [
        {
          "ename": "NameError",
          "evalue": "name 'deviation' is not defined",
          "output_type": "error",
          "traceback": [
            "\u001b[1;31m---------------------------------------------------------------------------\u001b[0m",
            "\u001b[1;31mNameError\u001b[0m                                 Traceback (most recent call last)",
            "\u001b[1;32m<ipython-input-43-e887153e040c>\u001b[0m in \u001b[0;36m<module>\u001b[1;34m\u001b[0m\n\u001b[0;32m      1\u001b[0m \u001b[1;31m# View the \"deviations\" series after sorting it in descending order\u001b[0m\u001b[1;33m\u001b[0m\u001b[1;33m\u001b[0m\u001b[1;33m\u001b[0m\u001b[0m\n\u001b[0;32m      2\u001b[0m \u001b[1;33m\u001b[0m\u001b[0m\n\u001b[1;32m----> 3\u001b[1;33m \u001b[0mdeviation\u001b[0m\u001b[1;33m.\u001b[0m\u001b[0msort_values\u001b[0m\u001b[1;33m(\u001b[0m\u001b[0mascending\u001b[0m\u001b[1;33m=\u001b[0m\u001b[1;32mTrue\u001b[0m\u001b[1;33m)\u001b[0m\u001b[1;33m\u001b[0m\u001b[1;33m\u001b[0m\u001b[0m\n\u001b[0m",
            "\u001b[1;31mNameError\u001b[0m: name 'deviation' is not defined"
          ]
        }
      ],
      "source": [
        "# View the \"deviations\" series after sorting it in descending order\n",
        "\n",
        "deviation.sort_values(ascending=True)"
      ]
    },
    {
      "cell_type": "markdown",
      "metadata": {
        "id": "RSypqWHuSzJU"
      },
      "source": [
        "Observations:\n",
        "\n",
        "The ratio of the standard deviation to the mean of a feature normalises it in a way.\n",
        "\n",
        "This allows for comparison between multiple features.\n",
        "\n",
        "The most variable feature in the original data set is the internal memory of the phones.\n",
        "\n",
        "The least variable feature in the original data set is the number of screen pixels in the horizontal axis.\n",
        "\n",
        "Although most features don't seem so variable, the prices of the phones are quite variable.\n",
        "\n",
        "Feel free to investigate what could be the cause of this difference in variability.\n",
        "\n",
        "Note: We encourage you to extend this analysis further and see what else you can find.\n",
        "\n",
        "Note: Please refer to the official website of Python and its libraries for various Python documentations."
      ]
    },
    {
      "cell_type": "markdown",
      "metadata": {
        "id": "kE4_U-R9TI_d"
      },
      "source": [
        "# Conclusion\n",
        "1. We have used concepts of descriptive statistics to study and work with a data set that contains mobile phone specifications.\n",
        "\n",
        "2. We were able to recommend three phone models to the client which she can then propose to her children."
      ]
    }
  ],
  "metadata": {
    "colab": {
      "provenance": []
    },
    "kernelspec": {
      "display_name": "Python 3",
      "language": "python",
      "name": "python3"
    },
    "language_info": {
      "codemirror_mode": {
        "name": "ipython",
        "version": 3
      },
      "file_extension": ".py",
      "mimetype": "text/x-python",
      "name": "python",
      "nbconvert_exporter": "python",
      "pygments_lexer": "ipython3",
      "version": "3.8.5"
    }
  },
  "nbformat": 4,
  "nbformat_minor": 0
}
